{
 "cells": [
  {
   "cell_type": "code",
   "execution_count": 1,
   "id": "08d985ae-e1f4-443e-8ac5-18b479d15587",
   "metadata": {},
   "outputs": [],
   "source": [
    "import pandas as pd\n",
    "import numpy as np\n",
    "import matplotlib.pyplot as plt\n",
    "import seaborn as sns\n",
    "from scipy import stats\n",
    "from scipy.stats import spearmanr\n",
    "from scipy.stats import pearsonr"
   ]
  },
  {
   "cell_type": "code",
   "execution_count": 2,
   "id": "b1b4d226-41d0-46ad-be84-dca0567bc781",
   "metadata": {},
   "outputs": [
    {
     "data": {
      "text/html": [
       "<div>\n",
       "<style scoped>\n",
       "    .dataframe tbody tr th:only-of-type {\n",
       "        vertical-align: middle;\n",
       "    }\n",
       "\n",
       "    .dataframe tbody tr th {\n",
       "        vertical-align: top;\n",
       "    }\n",
       "\n",
       "    .dataframe thead th {\n",
       "        text-align: right;\n",
       "    }\n",
       "</style>\n",
       "<table border=\"1\" class=\"dataframe\">\n",
       "  <thead>\n",
       "    <tr style=\"text-align: right;\">\n",
       "      <th></th>\n",
       "      <th>Suburb</th>\n",
       "      <th>Address</th>\n",
       "      <th>Rooms</th>\n",
       "      <th>Type</th>\n",
       "      <th>Price</th>\n",
       "      <th>Method</th>\n",
       "      <th>SellerG</th>\n",
       "      <th>Date</th>\n",
       "      <th>Distance</th>\n",
       "      <th>Postcode</th>\n",
       "      <th>...</th>\n",
       "      <th>Bathroom</th>\n",
       "      <th>Car</th>\n",
       "      <th>Landsize</th>\n",
       "      <th>BuildingArea</th>\n",
       "      <th>YearBuilt</th>\n",
       "      <th>CouncilArea</th>\n",
       "      <th>Lattitude</th>\n",
       "      <th>Longtitude</th>\n",
       "      <th>Regionname</th>\n",
       "      <th>Propertycount</th>\n",
       "    </tr>\n",
       "  </thead>\n",
       "  <tbody>\n",
       "    <tr>\n",
       "      <th>0</th>\n",
       "      <td>Abbotsford</td>\n",
       "      <td>68 Studley St</td>\n",
       "      <td>2</td>\n",
       "      <td>h</td>\n",
       "      <td>NaN</td>\n",
       "      <td>SS</td>\n",
       "      <td>Jellis</td>\n",
       "      <td>3/09/2016</td>\n",
       "      <td>2.5</td>\n",
       "      <td>3067.0</td>\n",
       "      <td>...</td>\n",
       "      <td>1.0</td>\n",
       "      <td>1.0</td>\n",
       "      <td>126.0</td>\n",
       "      <td>NaN</td>\n",
       "      <td>NaN</td>\n",
       "      <td>Yarra City Council</td>\n",
       "      <td>-37.8014</td>\n",
       "      <td>144.9958</td>\n",
       "      <td>Northern Metropolitan</td>\n",
       "      <td>4019.0</td>\n",
       "    </tr>\n",
       "    <tr>\n",
       "      <th>1</th>\n",
       "      <td>Abbotsford</td>\n",
       "      <td>85 Turner St</td>\n",
       "      <td>2</td>\n",
       "      <td>h</td>\n",
       "      <td>1480000.0</td>\n",
       "      <td>S</td>\n",
       "      <td>Biggin</td>\n",
       "      <td>3/12/2016</td>\n",
       "      <td>2.5</td>\n",
       "      <td>3067.0</td>\n",
       "      <td>...</td>\n",
       "      <td>1.0</td>\n",
       "      <td>1.0</td>\n",
       "      <td>202.0</td>\n",
       "      <td>NaN</td>\n",
       "      <td>NaN</td>\n",
       "      <td>Yarra City Council</td>\n",
       "      <td>-37.7996</td>\n",
       "      <td>144.9984</td>\n",
       "      <td>Northern Metropolitan</td>\n",
       "      <td>4019.0</td>\n",
       "    </tr>\n",
       "    <tr>\n",
       "      <th>2</th>\n",
       "      <td>Abbotsford</td>\n",
       "      <td>25 Bloomburg St</td>\n",
       "      <td>2</td>\n",
       "      <td>h</td>\n",
       "      <td>1035000.0</td>\n",
       "      <td>S</td>\n",
       "      <td>Biggin</td>\n",
       "      <td>4/02/2016</td>\n",
       "      <td>2.5</td>\n",
       "      <td>3067.0</td>\n",
       "      <td>...</td>\n",
       "      <td>1.0</td>\n",
       "      <td>0.0</td>\n",
       "      <td>156.0</td>\n",
       "      <td>79.0</td>\n",
       "      <td>1900.0</td>\n",
       "      <td>Yarra City Council</td>\n",
       "      <td>-37.8079</td>\n",
       "      <td>144.9934</td>\n",
       "      <td>Northern Metropolitan</td>\n",
       "      <td>4019.0</td>\n",
       "    </tr>\n",
       "    <tr>\n",
       "      <th>3</th>\n",
       "      <td>Abbotsford</td>\n",
       "      <td>18/659 Victoria St</td>\n",
       "      <td>3</td>\n",
       "      <td>u</td>\n",
       "      <td>NaN</td>\n",
       "      <td>VB</td>\n",
       "      <td>Rounds</td>\n",
       "      <td>4/02/2016</td>\n",
       "      <td>2.5</td>\n",
       "      <td>3067.0</td>\n",
       "      <td>...</td>\n",
       "      <td>2.0</td>\n",
       "      <td>1.0</td>\n",
       "      <td>0.0</td>\n",
       "      <td>NaN</td>\n",
       "      <td>NaN</td>\n",
       "      <td>Yarra City Council</td>\n",
       "      <td>-37.8114</td>\n",
       "      <td>145.0116</td>\n",
       "      <td>Northern Metropolitan</td>\n",
       "      <td>4019.0</td>\n",
       "    </tr>\n",
       "    <tr>\n",
       "      <th>4</th>\n",
       "      <td>Abbotsford</td>\n",
       "      <td>5 Charles St</td>\n",
       "      <td>3</td>\n",
       "      <td>h</td>\n",
       "      <td>1465000.0</td>\n",
       "      <td>SP</td>\n",
       "      <td>Biggin</td>\n",
       "      <td>4/03/2017</td>\n",
       "      <td>2.5</td>\n",
       "      <td>3067.0</td>\n",
       "      <td>...</td>\n",
       "      <td>2.0</td>\n",
       "      <td>0.0</td>\n",
       "      <td>134.0</td>\n",
       "      <td>150.0</td>\n",
       "      <td>1900.0</td>\n",
       "      <td>Yarra City Council</td>\n",
       "      <td>-37.8093</td>\n",
       "      <td>144.9944</td>\n",
       "      <td>Northern Metropolitan</td>\n",
       "      <td>4019.0</td>\n",
       "    </tr>\n",
       "  </tbody>\n",
       "</table>\n",
       "<p>5 rows × 21 columns</p>\n",
       "</div>"
      ],
      "text/plain": [
       "       Suburb             Address  Rooms Type      Price Method SellerG  \\\n",
       "0  Abbotsford       68 Studley St      2    h        NaN     SS  Jellis   \n",
       "1  Abbotsford        85 Turner St      2    h  1480000.0      S  Biggin   \n",
       "2  Abbotsford     25 Bloomburg St      2    h  1035000.0      S  Biggin   \n",
       "3  Abbotsford  18/659 Victoria St      3    u        NaN     VB  Rounds   \n",
       "4  Abbotsford        5 Charles St      3    h  1465000.0     SP  Biggin   \n",
       "\n",
       "        Date  Distance  Postcode  ...  Bathroom  Car  Landsize  BuildingArea  \\\n",
       "0  3/09/2016       2.5    3067.0  ...       1.0  1.0     126.0           NaN   \n",
       "1  3/12/2016       2.5    3067.0  ...       1.0  1.0     202.0           NaN   \n",
       "2  4/02/2016       2.5    3067.0  ...       1.0  0.0     156.0          79.0   \n",
       "3  4/02/2016       2.5    3067.0  ...       2.0  1.0       0.0           NaN   \n",
       "4  4/03/2017       2.5    3067.0  ...       2.0  0.0     134.0         150.0   \n",
       "\n",
       "   YearBuilt         CouncilArea Lattitude  Longtitude             Regionname  \\\n",
       "0        NaN  Yarra City Council  -37.8014    144.9958  Northern Metropolitan   \n",
       "1        NaN  Yarra City Council  -37.7996    144.9984  Northern Metropolitan   \n",
       "2     1900.0  Yarra City Council  -37.8079    144.9934  Northern Metropolitan   \n",
       "3        NaN  Yarra City Council  -37.8114    145.0116  Northern Metropolitan   \n",
       "4     1900.0  Yarra City Council  -37.8093    144.9944  Northern Metropolitan   \n",
       "\n",
       "  Propertycount  \n",
       "0        4019.0  \n",
       "1        4019.0  \n",
       "2        4019.0  \n",
       "3        4019.0  \n",
       "4        4019.0  \n",
       "\n",
       "[5 rows x 21 columns]"
      ]
     },
     "execution_count": 2,
     "metadata": {},
     "output_type": "execute_result"
    }
   ],
   "source": [
    "df = pd.read_csv('./data/Melbourne_housing_FULL.txt')\n",
    "# print(df)\n",
    "df.head()"
   ]
  },
  {
   "cell_type": "markdown",
   "id": "cf794118",
   "metadata": {},
   "source": [
    "### Dataset columns:\n",
    "\n",
    "- **suburb** (Suburb): The suburb where the property is located\n",
    "- **address** (Address): The street address of the property\n",
    "- **rooms** (Rooms): The number of rooms in the property\n",
    "- **property_type** (Type): The type of the property (house, townhouse, unit, etc.)\n",
    "- **price** (Price): The price at which the property was sold\n",
    "- **sale_type** (Method): The method of sale (auction, private treaty, etc.)\n",
    "- **seller** (SellerG): The agency or agent who sold the property\n",
    "- **date** (Date): The date on which the property was sold\n",
    "- **distance** (Distance): The distance of the property from Melbourne's central business district (CBD) in kilometers\n",
    "- **postcode** (Postcode): The postcode of the suburb where the property is located\n",
    "- **bedrooms** (Bedroom2): The number of bedrooms in the property (other than the master bedroom)\n",
    "- **bathroom** (Bathroom): The number of bathrooms in the property\n",
    "- **car_spaces** (Car): The number of car spaces in the property\n",
    "- **land_size** (Landsize): The size of the land on which the property is located in square meters\n",
    "- **building_area** (BuildingArea): The size of the building on the land in square meters\n",
    "- **building_year** (YearBuilt): The year in which the building was constructed\n",
    "- **council** (CouncilArea): The local government area in which the property is located\n",
    "- **latitude** (Latitude): The latitude coordinate of the property\n",
    "- **longitude** (Longitude): The longitude coordinate of the property\n",
    "- **region** (Regionname): The general region in Melbourne (west, north, south-east, etc.)\n",
    "- **property_count** (Propertycount): The number of properties in the suburb\n"
   ]
  },
  {
   "cell_type": "markdown",
   "id": "47fd2f5f",
   "metadata": {},
   "source": [
    "# **Data Cleaning**"
   ]
  },
  {
   "cell_type": "code",
   "execution_count": 3,
   "id": "91881bd0",
   "metadata": {},
   "outputs": [
    {
     "name": "stdout",
     "output_type": "stream",
     "text": [
      "DF basic info\n",
      "<class 'pandas.core.frame.DataFrame'>\n",
      "RangeIndex: 34857 entries, 0 to 34856\n",
      "Data columns (total 21 columns):\n",
      " #   Column         Non-Null Count  Dtype  \n",
      "---  ------         --------------  -----  \n",
      " 0   Suburb         34857 non-null  object \n",
      " 1   Address        34857 non-null  object \n",
      " 2   Rooms          34857 non-null  int64  \n",
      " 3   Type           34857 non-null  object \n",
      " 4   Price          27247 non-null  float64\n",
      " 5   Method         34857 non-null  object \n",
      " 6   SellerG        34857 non-null  object \n",
      " 7   Date           34857 non-null  object \n",
      " 8   Distance       34856 non-null  float64\n",
      " 9   Postcode       34856 non-null  float64\n",
      " 10  Bedroom2       26640 non-null  float64\n",
      " 11  Bathroom       26631 non-null  float64\n",
      " 12  Car            26129 non-null  float64\n",
      " 13  Landsize       23047 non-null  float64\n",
      " 14  BuildingArea   13742 non-null  float64\n",
      " 15  YearBuilt      15551 non-null  float64\n",
      " 16  CouncilArea    34854 non-null  object \n",
      " 17  Lattitude      26881 non-null  float64\n",
      " 18  Longtitude     26881 non-null  float64\n",
      " 19  Regionname     34854 non-null  object \n",
      " 20  Propertycount  34854 non-null  float64\n",
      "dtypes: float64(12), int64(1), object(8)\n",
      "memory usage: 5.6+ MB\n",
      "None\n",
      "Summary stats\n",
      "              Rooms         Price      Distance      Postcode      Bedroom2  \\\n",
      "count  34857.000000  2.724700e+04  34856.000000  34856.000000  26640.000000   \n",
      "mean       3.031012  1.050173e+06     11.184929   3116.062859      3.084647   \n",
      "std        0.969933  6.414671e+05      6.788892    109.023903      0.980690   \n",
      "min        1.000000  8.500000e+04      0.000000   3000.000000      0.000000   \n",
      "25%        2.000000  6.350000e+05      6.400000   3051.000000      2.000000   \n",
      "50%        3.000000  8.700000e+05     10.300000   3103.000000      3.000000   \n",
      "75%        4.000000  1.295000e+06     14.000000   3156.000000      4.000000   \n",
      "max       16.000000  1.120000e+07     48.100000   3978.000000     30.000000   \n",
      "\n",
      "           Bathroom           Car       Landsize  BuildingArea     YearBuilt  \\\n",
      "count  26631.000000  26129.000000   23047.000000   13742.00000  15551.000000   \n",
      "mean       1.624798      1.728845     593.598993     160.25640   1965.289885   \n",
      "std        0.724212      1.010771    3398.841946     401.26706     37.328178   \n",
      "min        0.000000      0.000000       0.000000       0.00000   1196.000000   \n",
      "25%        1.000000      1.000000     224.000000     102.00000   1940.000000   \n",
      "50%        2.000000      2.000000     521.000000     136.00000   1970.000000   \n",
      "75%        2.000000      2.000000     670.000000     188.00000   2000.000000   \n",
      "max       12.000000     26.000000  433014.000000   44515.00000   2106.000000   \n",
      "\n",
      "          Lattitude    Longtitude  Propertycount  \n",
      "count  26881.000000  26881.000000   34854.000000  \n",
      "mean     -37.810634    145.001851    7572.888306  \n",
      "std        0.090279      0.120169    4428.090313  \n",
      "min      -38.190430    144.423790      83.000000  \n",
      "25%      -37.862950    144.933500    4385.000000  \n",
      "50%      -37.807600    145.007800    6763.000000  \n",
      "75%      -37.754100    145.071900   10412.000000  \n",
      "max      -37.390200    145.526350   21650.000000  \n",
      "Null values\n",
      "Suburb               0\n",
      "Address              0\n",
      "Rooms                0\n",
      "Type                 0\n",
      "Price             7610\n",
      "Method               0\n",
      "SellerG              0\n",
      "Date                 0\n",
      "Distance             1\n",
      "Postcode             1\n",
      "Bedroom2          8217\n",
      "Bathroom          8226\n",
      "Car               8728\n",
      "Landsize         11810\n",
      "BuildingArea     21115\n",
      "YearBuilt        19306\n",
      "CouncilArea          3\n",
      "Lattitude         7976\n",
      "Longtitude        7976\n",
      "Regionname           3\n",
      "Propertycount        3\n",
      "dtype: int64\n"
     ]
    }
   ],
   "source": [
    "# Check basic info like column types and non-null counts\n",
    "print('DF basic info')\n",
    "print(df.info())\n",
    "\n",
    "# Get some summary statistics for numerical columns\n",
    "print('Summary stats')\n",
    "print(df.describe())\n",
    "\n",
    "# Check for null values\n",
    "print('Null values')\n",
    "print(df.isnull().sum())\n"
   ]
  },
  {
   "cell_type": "code",
   "execution_count": 4,
   "id": "1f1a2f9f",
   "metadata": {},
   "outputs": [],
   "source": [
    "# change column names\n",
    "df.columns = [\n",
    "    'suburb', 'address', 'rooms', 'property_type', 'price', 'sale_type', 'seller', \n",
    "    'date', 'distance', 'postcode', 'bedrooms', 'bathroom', 'car_spaces', \n",
    "    'land_size', 'building_area', 'building_year', 'council', 'latitude', \n",
    "    'longitude', 'region', 'property_count'\n",
    "]\n",
    "\n",
    "# print(df.columns)"
   ]
  },
  {
   "cell_type": "code",
   "execution_count": 5,
   "id": "938b9e7e",
   "metadata": {},
   "outputs": [
    {
     "name": "stdout",
     "output_type": "stream",
     "text": [
      "suburb             object\n",
      "address            object\n",
      "rooms               int64\n",
      "property_type      object\n",
      "price             float64\n",
      "sale_type          object\n",
      "seller             object\n",
      "date               object\n",
      "distance          float64\n",
      "postcode          float64\n",
      "bedrooms          float64\n",
      "bathroom          float64\n",
      "car_spaces        float64\n",
      "land_size         float64\n",
      "building_area     float64\n",
      "building_year     float64\n",
      "council            object\n",
      "latitude          float64\n",
      "longitude         float64\n",
      "region             object\n",
      "property_count    float64\n",
      "dtype: object\n"
     ]
    }
   ],
   "source": [
    "# value types\n",
    "print(df.dtypes)"
   ]
  },
  {
   "cell_type": "code",
   "execution_count": 6,
   "id": "45e0fd64",
   "metadata": {},
   "outputs": [
    {
     "data": {
      "text/html": [
       "<div>\n",
       "<style scoped>\n",
       "    .dataframe tbody tr th:only-of-type {\n",
       "        vertical-align: middle;\n",
       "    }\n",
       "\n",
       "    .dataframe tbody tr th {\n",
       "        vertical-align: top;\n",
       "    }\n",
       "\n",
       "    .dataframe thead th {\n",
       "        text-align: right;\n",
       "    }\n",
       "</style>\n",
       "<table border=\"1\" class=\"dataframe\">\n",
       "  <thead>\n",
       "    <tr style=\"text-align: right;\">\n",
       "      <th></th>\n",
       "      <th>suburb</th>\n",
       "      <th>address</th>\n",
       "      <th>rooms</th>\n",
       "      <th>property_type</th>\n",
       "      <th>price</th>\n",
       "      <th>sale_type</th>\n",
       "      <th>seller</th>\n",
       "      <th>date</th>\n",
       "      <th>distance</th>\n",
       "      <th>postcode</th>\n",
       "      <th>...</th>\n",
       "      <th>bathroom</th>\n",
       "      <th>car_spaces</th>\n",
       "      <th>land_size</th>\n",
       "      <th>building_area</th>\n",
       "      <th>building_year</th>\n",
       "      <th>council</th>\n",
       "      <th>latitude</th>\n",
       "      <th>longitude</th>\n",
       "      <th>region</th>\n",
       "      <th>property_count</th>\n",
       "    </tr>\n",
       "  </thead>\n",
       "  <tbody>\n",
       "    <tr>\n",
       "      <th>0</th>\n",
       "      <td>Abbotsford</td>\n",
       "      <td>68 Studley St</td>\n",
       "      <td>2</td>\n",
       "      <td>h</td>\n",
       "      <td>NaN</td>\n",
       "      <td>SS</td>\n",
       "      <td>Jellis</td>\n",
       "      <td>3/09/2016</td>\n",
       "      <td>2.5</td>\n",
       "      <td>3067.0</td>\n",
       "      <td>...</td>\n",
       "      <td>1.0</td>\n",
       "      <td>1.0</td>\n",
       "      <td>126.0</td>\n",
       "      <td>NaN</td>\n",
       "      <td>NaN</td>\n",
       "      <td>Yarra City Council</td>\n",
       "      <td>-37.8014</td>\n",
       "      <td>144.9958</td>\n",
       "      <td>Northern Metropolitan</td>\n",
       "      <td>4019.0</td>\n",
       "    </tr>\n",
       "    <tr>\n",
       "      <th>1</th>\n",
       "      <td>Abbotsford</td>\n",
       "      <td>85 Turner St</td>\n",
       "      <td>2</td>\n",
       "      <td>h</td>\n",
       "      <td>1480000.0</td>\n",
       "      <td>S</td>\n",
       "      <td>Biggin</td>\n",
       "      <td>3/12/2016</td>\n",
       "      <td>2.5</td>\n",
       "      <td>3067.0</td>\n",
       "      <td>...</td>\n",
       "      <td>1.0</td>\n",
       "      <td>1.0</td>\n",
       "      <td>202.0</td>\n",
       "      <td>NaN</td>\n",
       "      <td>NaN</td>\n",
       "      <td>Yarra City Council</td>\n",
       "      <td>-37.7996</td>\n",
       "      <td>144.9984</td>\n",
       "      <td>Northern Metropolitan</td>\n",
       "      <td>4019.0</td>\n",
       "    </tr>\n",
       "    <tr>\n",
       "      <th>2</th>\n",
       "      <td>Abbotsford</td>\n",
       "      <td>25 Bloomburg St</td>\n",
       "      <td>2</td>\n",
       "      <td>h</td>\n",
       "      <td>1035000.0</td>\n",
       "      <td>S</td>\n",
       "      <td>Biggin</td>\n",
       "      <td>4/02/2016</td>\n",
       "      <td>2.5</td>\n",
       "      <td>3067.0</td>\n",
       "      <td>...</td>\n",
       "      <td>1.0</td>\n",
       "      <td>0.0</td>\n",
       "      <td>156.0</td>\n",
       "      <td>79.0</td>\n",
       "      <td>1900.0</td>\n",
       "      <td>Yarra City Council</td>\n",
       "      <td>-37.8079</td>\n",
       "      <td>144.9934</td>\n",
       "      <td>Northern Metropolitan</td>\n",
       "      <td>4019.0</td>\n",
       "    </tr>\n",
       "    <tr>\n",
       "      <th>3</th>\n",
       "      <td>Abbotsford</td>\n",
       "      <td>18/659 Victoria St</td>\n",
       "      <td>3</td>\n",
       "      <td>u</td>\n",
       "      <td>NaN</td>\n",
       "      <td>VB</td>\n",
       "      <td>Rounds</td>\n",
       "      <td>4/02/2016</td>\n",
       "      <td>2.5</td>\n",
       "      <td>3067.0</td>\n",
       "      <td>...</td>\n",
       "      <td>2.0</td>\n",
       "      <td>1.0</td>\n",
       "      <td>0.0</td>\n",
       "      <td>NaN</td>\n",
       "      <td>NaN</td>\n",
       "      <td>Yarra City Council</td>\n",
       "      <td>-37.8114</td>\n",
       "      <td>145.0116</td>\n",
       "      <td>Northern Metropolitan</td>\n",
       "      <td>4019.0</td>\n",
       "    </tr>\n",
       "    <tr>\n",
       "      <th>4</th>\n",
       "      <td>Abbotsford</td>\n",
       "      <td>5 Charles St</td>\n",
       "      <td>3</td>\n",
       "      <td>h</td>\n",
       "      <td>1465000.0</td>\n",
       "      <td>SP</td>\n",
       "      <td>Biggin</td>\n",
       "      <td>4/03/2017</td>\n",
       "      <td>2.5</td>\n",
       "      <td>3067.0</td>\n",
       "      <td>...</td>\n",
       "      <td>2.0</td>\n",
       "      <td>0.0</td>\n",
       "      <td>134.0</td>\n",
       "      <td>150.0</td>\n",
       "      <td>1900.0</td>\n",
       "      <td>Yarra City Council</td>\n",
       "      <td>-37.8093</td>\n",
       "      <td>144.9944</td>\n",
       "      <td>Northern Metropolitan</td>\n",
       "      <td>4019.0</td>\n",
       "    </tr>\n",
       "    <tr>\n",
       "      <th>5</th>\n",
       "      <td>Abbotsford</td>\n",
       "      <td>40 Federation La</td>\n",
       "      <td>3</td>\n",
       "      <td>h</td>\n",
       "      <td>850000.0</td>\n",
       "      <td>PI</td>\n",
       "      <td>Biggin</td>\n",
       "      <td>4/03/2017</td>\n",
       "      <td>2.5</td>\n",
       "      <td>3067.0</td>\n",
       "      <td>...</td>\n",
       "      <td>2.0</td>\n",
       "      <td>1.0</td>\n",
       "      <td>94.0</td>\n",
       "      <td>NaN</td>\n",
       "      <td>NaN</td>\n",
       "      <td>Yarra City Council</td>\n",
       "      <td>-37.7969</td>\n",
       "      <td>144.9969</td>\n",
       "      <td>Northern Metropolitan</td>\n",
       "      <td>4019.0</td>\n",
       "    </tr>\n",
       "    <tr>\n",
       "      <th>6</th>\n",
       "      <td>Abbotsford</td>\n",
       "      <td>55a Park St</td>\n",
       "      <td>4</td>\n",
       "      <td>h</td>\n",
       "      <td>1600000.0</td>\n",
       "      <td>VB</td>\n",
       "      <td>Nelson</td>\n",
       "      <td>4/06/2016</td>\n",
       "      <td>2.5</td>\n",
       "      <td>3067.0</td>\n",
       "      <td>...</td>\n",
       "      <td>1.0</td>\n",
       "      <td>2.0</td>\n",
       "      <td>120.0</td>\n",
       "      <td>142.0</td>\n",
       "      <td>2014.0</td>\n",
       "      <td>Yarra City Council</td>\n",
       "      <td>-37.8072</td>\n",
       "      <td>144.9941</td>\n",
       "      <td>Northern Metropolitan</td>\n",
       "      <td>4019.0</td>\n",
       "    </tr>\n",
       "    <tr>\n",
       "      <th>7</th>\n",
       "      <td>Abbotsford</td>\n",
       "      <td>16 Maugie St</td>\n",
       "      <td>4</td>\n",
       "      <td>h</td>\n",
       "      <td>NaN</td>\n",
       "      <td>SN</td>\n",
       "      <td>Nelson</td>\n",
       "      <td>6/08/2016</td>\n",
       "      <td>2.5</td>\n",
       "      <td>3067.0</td>\n",
       "      <td>...</td>\n",
       "      <td>2.0</td>\n",
       "      <td>2.0</td>\n",
       "      <td>400.0</td>\n",
       "      <td>220.0</td>\n",
       "      <td>2006.0</td>\n",
       "      <td>Yarra City Council</td>\n",
       "      <td>-37.7965</td>\n",
       "      <td>144.9965</td>\n",
       "      <td>Northern Metropolitan</td>\n",
       "      <td>4019.0</td>\n",
       "    </tr>\n",
       "    <tr>\n",
       "      <th>8</th>\n",
       "      <td>Abbotsford</td>\n",
       "      <td>53 Turner St</td>\n",
       "      <td>2</td>\n",
       "      <td>h</td>\n",
       "      <td>NaN</td>\n",
       "      <td>S</td>\n",
       "      <td>Biggin</td>\n",
       "      <td>6/08/2016</td>\n",
       "      <td>2.5</td>\n",
       "      <td>3067.0</td>\n",
       "      <td>...</td>\n",
       "      <td>1.0</td>\n",
       "      <td>2.0</td>\n",
       "      <td>201.0</td>\n",
       "      <td>NaN</td>\n",
       "      <td>1900.0</td>\n",
       "      <td>Yarra City Council</td>\n",
       "      <td>-37.7995</td>\n",
       "      <td>144.9974</td>\n",
       "      <td>Northern Metropolitan</td>\n",
       "      <td>4019.0</td>\n",
       "    </tr>\n",
       "    <tr>\n",
       "      <th>9</th>\n",
       "      <td>Abbotsford</td>\n",
       "      <td>99 Turner St</td>\n",
       "      <td>2</td>\n",
       "      <td>h</td>\n",
       "      <td>NaN</td>\n",
       "      <td>S</td>\n",
       "      <td>Collins</td>\n",
       "      <td>6/08/2016</td>\n",
       "      <td>2.5</td>\n",
       "      <td>3067.0</td>\n",
       "      <td>...</td>\n",
       "      <td>2.0</td>\n",
       "      <td>1.0</td>\n",
       "      <td>202.0</td>\n",
       "      <td>NaN</td>\n",
       "      <td>1900.0</td>\n",
       "      <td>Yarra City Council</td>\n",
       "      <td>-37.7996</td>\n",
       "      <td>144.9989</td>\n",
       "      <td>Northern Metropolitan</td>\n",
       "      <td>4019.0</td>\n",
       "    </tr>\n",
       "    <tr>\n",
       "      <th>10</th>\n",
       "      <td>Abbotsford</td>\n",
       "      <td>129 Charles St</td>\n",
       "      <td>2</td>\n",
       "      <td>h</td>\n",
       "      <td>941000.0</td>\n",
       "      <td>S</td>\n",
       "      <td>Jellis</td>\n",
       "      <td>7/05/2016</td>\n",
       "      <td>2.5</td>\n",
       "      <td>3067.0</td>\n",
       "      <td>...</td>\n",
       "      <td>1.0</td>\n",
       "      <td>0.0</td>\n",
       "      <td>181.0</td>\n",
       "      <td>NaN</td>\n",
       "      <td>NaN</td>\n",
       "      <td>Yarra City Council</td>\n",
       "      <td>-37.8041</td>\n",
       "      <td>144.9953</td>\n",
       "      <td>Northern Metropolitan</td>\n",
       "      <td>4019.0</td>\n",
       "    </tr>\n",
       "    <tr>\n",
       "      <th>11</th>\n",
       "      <td>Abbotsford</td>\n",
       "      <td>124 Yarra St</td>\n",
       "      <td>3</td>\n",
       "      <td>h</td>\n",
       "      <td>1876000.0</td>\n",
       "      <td>S</td>\n",
       "      <td>Nelson</td>\n",
       "      <td>7/05/2016</td>\n",
       "      <td>2.5</td>\n",
       "      <td>3067.0</td>\n",
       "      <td>...</td>\n",
       "      <td>2.0</td>\n",
       "      <td>0.0</td>\n",
       "      <td>245.0</td>\n",
       "      <td>210.0</td>\n",
       "      <td>1910.0</td>\n",
       "      <td>Yarra City Council</td>\n",
       "      <td>-37.8024</td>\n",
       "      <td>144.9993</td>\n",
       "      <td>Northern Metropolitan</td>\n",
       "      <td>4019.0</td>\n",
       "    </tr>\n",
       "    <tr>\n",
       "      <th>12</th>\n",
       "      <td>Abbotsford</td>\n",
       "      <td>121/56 Nicholson St</td>\n",
       "      <td>2</td>\n",
       "      <td>u</td>\n",
       "      <td>NaN</td>\n",
       "      <td>PI</td>\n",
       "      <td>Biggin</td>\n",
       "      <td>7/11/2016</td>\n",
       "      <td>2.5</td>\n",
       "      <td>3067.0</td>\n",
       "      <td>...</td>\n",
       "      <td>2.0</td>\n",
       "      <td>1.0</td>\n",
       "      <td>4292.0</td>\n",
       "      <td>82.0</td>\n",
       "      <td>2009.0</td>\n",
       "      <td>Yarra City Council</td>\n",
       "      <td>-37.8078</td>\n",
       "      <td>144.9965</td>\n",
       "      <td>Northern Metropolitan</td>\n",
       "      <td>4019.0</td>\n",
       "    </tr>\n",
       "    <tr>\n",
       "      <th>13</th>\n",
       "      <td>Abbotsford</td>\n",
       "      <td>17 Raphael St</td>\n",
       "      <td>4</td>\n",
       "      <td>h</td>\n",
       "      <td>NaN</td>\n",
       "      <td>W</td>\n",
       "      <td>Biggin</td>\n",
       "      <td>7/11/2016</td>\n",
       "      <td>2.5</td>\n",
       "      <td>3067.0</td>\n",
       "      <td>...</td>\n",
       "      <td>2.0</td>\n",
       "      <td>0.0</td>\n",
       "      <td>230.0</td>\n",
       "      <td>147.0</td>\n",
       "      <td>1860.0</td>\n",
       "      <td>Yarra City Council</td>\n",
       "      <td>-37.8066</td>\n",
       "      <td>144.9936</td>\n",
       "      <td>Northern Metropolitan</td>\n",
       "      <td>4019.0</td>\n",
       "    </tr>\n",
       "    <tr>\n",
       "      <th>14</th>\n",
       "      <td>Abbotsford</td>\n",
       "      <td>98 Charles St</td>\n",
       "      <td>2</td>\n",
       "      <td>h</td>\n",
       "      <td>1636000.0</td>\n",
       "      <td>S</td>\n",
       "      <td>Nelson</td>\n",
       "      <td>8/10/2016</td>\n",
       "      <td>2.5</td>\n",
       "      <td>3067.0</td>\n",
       "      <td>...</td>\n",
       "      <td>1.0</td>\n",
       "      <td>2.0</td>\n",
       "      <td>256.0</td>\n",
       "      <td>107.0</td>\n",
       "      <td>1890.0</td>\n",
       "      <td>Yarra City Council</td>\n",
       "      <td>-37.8060</td>\n",
       "      <td>144.9954</td>\n",
       "      <td>Northern Metropolitan</td>\n",
       "      <td>4019.0</td>\n",
       "    </tr>\n",
       "    <tr>\n",
       "      <th>15</th>\n",
       "      <td>Abbotsford</td>\n",
       "      <td>217 Langridge St</td>\n",
       "      <td>3</td>\n",
       "      <td>h</td>\n",
       "      <td>1000000.0</td>\n",
       "      <td>S</td>\n",
       "      <td>Jellis</td>\n",
       "      <td>8/10/2016</td>\n",
       "      <td>2.5</td>\n",
       "      <td>3067.0</td>\n",
       "      <td>...</td>\n",
       "      <td>NaN</td>\n",
       "      <td>NaN</td>\n",
       "      <td>NaN</td>\n",
       "      <td>NaN</td>\n",
       "      <td>NaN</td>\n",
       "      <td>Yarra City Council</td>\n",
       "      <td>NaN</td>\n",
       "      <td>NaN</td>\n",
       "      <td>Northern Metropolitan</td>\n",
       "      <td>4019.0</td>\n",
       "    </tr>\n",
       "    <tr>\n",
       "      <th>16</th>\n",
       "      <td>Abbotsford</td>\n",
       "      <td>18a Mollison St</td>\n",
       "      <td>2</td>\n",
       "      <td>t</td>\n",
       "      <td>745000.0</td>\n",
       "      <td>S</td>\n",
       "      <td>Jellis</td>\n",
       "      <td>8/10/2016</td>\n",
       "      <td>2.5</td>\n",
       "      <td>3067.0</td>\n",
       "      <td>...</td>\n",
       "      <td>NaN</td>\n",
       "      <td>NaN</td>\n",
       "      <td>NaN</td>\n",
       "      <td>NaN</td>\n",
       "      <td>NaN</td>\n",
       "      <td>Yarra City Council</td>\n",
       "      <td>NaN</td>\n",
       "      <td>NaN</td>\n",
       "      <td>Northern Metropolitan</td>\n",
       "      <td>4019.0</td>\n",
       "    </tr>\n",
       "    <tr>\n",
       "      <th>17</th>\n",
       "      <td>Abbotsford</td>\n",
       "      <td>6/241 Nicholson St</td>\n",
       "      <td>1</td>\n",
       "      <td>u</td>\n",
       "      <td>300000.0</td>\n",
       "      <td>S</td>\n",
       "      <td>Biggin</td>\n",
       "      <td>8/10/2016</td>\n",
       "      <td>2.5</td>\n",
       "      <td>3067.0</td>\n",
       "      <td>...</td>\n",
       "      <td>1.0</td>\n",
       "      <td>1.0</td>\n",
       "      <td>0.0</td>\n",
       "      <td>NaN</td>\n",
       "      <td>NaN</td>\n",
       "      <td>Yarra City Council</td>\n",
       "      <td>-37.8008</td>\n",
       "      <td>144.9973</td>\n",
       "      <td>Northern Metropolitan</td>\n",
       "      <td>4019.0</td>\n",
       "    </tr>\n",
       "    <tr>\n",
       "      <th>18</th>\n",
       "      <td>Abbotsford</td>\n",
       "      <td>10 Valiant St</td>\n",
       "      <td>2</td>\n",
       "      <td>h</td>\n",
       "      <td>1097000.0</td>\n",
       "      <td>S</td>\n",
       "      <td>Biggin</td>\n",
       "      <td>8/10/2016</td>\n",
       "      <td>2.5</td>\n",
       "      <td>3067.0</td>\n",
       "      <td>...</td>\n",
       "      <td>1.0</td>\n",
       "      <td>2.0</td>\n",
       "      <td>220.0</td>\n",
       "      <td>75.0</td>\n",
       "      <td>1900.0</td>\n",
       "      <td>Yarra City Council</td>\n",
       "      <td>-37.8010</td>\n",
       "      <td>144.9989</td>\n",
       "      <td>Northern Metropolitan</td>\n",
       "      <td>4019.0</td>\n",
       "    </tr>\n",
       "    <tr>\n",
       "      <th>19</th>\n",
       "      <td>Abbotsford</td>\n",
       "      <td>403/609 Victoria St</td>\n",
       "      <td>2</td>\n",
       "      <td>u</td>\n",
       "      <td>542000.0</td>\n",
       "      <td>S</td>\n",
       "      <td>Dingle</td>\n",
       "      <td>8/10/2016</td>\n",
       "      <td>2.5</td>\n",
       "      <td>3067.0</td>\n",
       "      <td>...</td>\n",
       "      <td>NaN</td>\n",
       "      <td>NaN</td>\n",
       "      <td>NaN</td>\n",
       "      <td>NaN</td>\n",
       "      <td>NaN</td>\n",
       "      <td>Yarra City Council</td>\n",
       "      <td>NaN</td>\n",
       "      <td>NaN</td>\n",
       "      <td>Northern Metropolitan</td>\n",
       "      <td>4019.0</td>\n",
       "    </tr>\n",
       "  </tbody>\n",
       "</table>\n",
       "<p>20 rows × 21 columns</p>\n",
       "</div>"
      ],
      "text/plain": [
       "        suburb              address  rooms property_type      price sale_type  \\\n",
       "0   Abbotsford        68 Studley St      2             h        NaN        SS   \n",
       "1   Abbotsford         85 Turner St      2             h  1480000.0         S   \n",
       "2   Abbotsford      25 Bloomburg St      2             h  1035000.0         S   \n",
       "3   Abbotsford   18/659 Victoria St      3             u        NaN        VB   \n",
       "4   Abbotsford         5 Charles St      3             h  1465000.0        SP   \n",
       "5   Abbotsford     40 Federation La      3             h   850000.0        PI   \n",
       "6   Abbotsford          55a Park St      4             h  1600000.0        VB   \n",
       "7   Abbotsford         16 Maugie St      4             h        NaN        SN   \n",
       "8   Abbotsford         53 Turner St      2             h        NaN         S   \n",
       "9   Abbotsford         99 Turner St      2             h        NaN         S   \n",
       "10  Abbotsford       129 Charles St      2             h   941000.0         S   \n",
       "11  Abbotsford         124 Yarra St      3             h  1876000.0         S   \n",
       "12  Abbotsford  121/56 Nicholson St      2             u        NaN        PI   \n",
       "13  Abbotsford        17 Raphael St      4             h        NaN         W   \n",
       "14  Abbotsford        98 Charles St      2             h  1636000.0         S   \n",
       "15  Abbotsford     217 Langridge St      3             h  1000000.0         S   \n",
       "16  Abbotsford      18a Mollison St      2             t   745000.0         S   \n",
       "17  Abbotsford   6/241 Nicholson St      1             u   300000.0         S   \n",
       "18  Abbotsford        10 Valiant St      2             h  1097000.0         S   \n",
       "19  Abbotsford  403/609 Victoria St      2             u   542000.0         S   \n",
       "\n",
       "     seller       date  distance  postcode  ...  bathroom  car_spaces  \\\n",
       "0    Jellis  3/09/2016       2.5    3067.0  ...       1.0         1.0   \n",
       "1    Biggin  3/12/2016       2.5    3067.0  ...       1.0         1.0   \n",
       "2    Biggin  4/02/2016       2.5    3067.0  ...       1.0         0.0   \n",
       "3    Rounds  4/02/2016       2.5    3067.0  ...       2.0         1.0   \n",
       "4    Biggin  4/03/2017       2.5    3067.0  ...       2.0         0.0   \n",
       "5    Biggin  4/03/2017       2.5    3067.0  ...       2.0         1.0   \n",
       "6    Nelson  4/06/2016       2.5    3067.0  ...       1.0         2.0   \n",
       "7    Nelson  6/08/2016       2.5    3067.0  ...       2.0         2.0   \n",
       "8    Biggin  6/08/2016       2.5    3067.0  ...       1.0         2.0   \n",
       "9   Collins  6/08/2016       2.5    3067.0  ...       2.0         1.0   \n",
       "10   Jellis  7/05/2016       2.5    3067.0  ...       1.0         0.0   \n",
       "11   Nelson  7/05/2016       2.5    3067.0  ...       2.0         0.0   \n",
       "12   Biggin  7/11/2016       2.5    3067.0  ...       2.0         1.0   \n",
       "13   Biggin  7/11/2016       2.5    3067.0  ...       2.0         0.0   \n",
       "14   Nelson  8/10/2016       2.5    3067.0  ...       1.0         2.0   \n",
       "15   Jellis  8/10/2016       2.5    3067.0  ...       NaN         NaN   \n",
       "16   Jellis  8/10/2016       2.5    3067.0  ...       NaN         NaN   \n",
       "17   Biggin  8/10/2016       2.5    3067.0  ...       1.0         1.0   \n",
       "18   Biggin  8/10/2016       2.5    3067.0  ...       1.0         2.0   \n",
       "19   Dingle  8/10/2016       2.5    3067.0  ...       NaN         NaN   \n",
       "\n",
       "    land_size  building_area  building_year             council latitude  \\\n",
       "0       126.0            NaN            NaN  Yarra City Council -37.8014   \n",
       "1       202.0            NaN            NaN  Yarra City Council -37.7996   \n",
       "2       156.0           79.0         1900.0  Yarra City Council -37.8079   \n",
       "3         0.0            NaN            NaN  Yarra City Council -37.8114   \n",
       "4       134.0          150.0         1900.0  Yarra City Council -37.8093   \n",
       "5        94.0            NaN            NaN  Yarra City Council -37.7969   \n",
       "6       120.0          142.0         2014.0  Yarra City Council -37.8072   \n",
       "7       400.0          220.0         2006.0  Yarra City Council -37.7965   \n",
       "8       201.0            NaN         1900.0  Yarra City Council -37.7995   \n",
       "9       202.0            NaN         1900.0  Yarra City Council -37.7996   \n",
       "10      181.0            NaN            NaN  Yarra City Council -37.8041   \n",
       "11      245.0          210.0         1910.0  Yarra City Council -37.8024   \n",
       "12     4292.0           82.0         2009.0  Yarra City Council -37.8078   \n",
       "13      230.0          147.0         1860.0  Yarra City Council -37.8066   \n",
       "14      256.0          107.0         1890.0  Yarra City Council -37.8060   \n",
       "15        NaN            NaN            NaN  Yarra City Council      NaN   \n",
       "16        NaN            NaN            NaN  Yarra City Council      NaN   \n",
       "17        0.0            NaN            NaN  Yarra City Council -37.8008   \n",
       "18      220.0           75.0         1900.0  Yarra City Council -37.8010   \n",
       "19        NaN            NaN            NaN  Yarra City Council      NaN   \n",
       "\n",
       "    longitude                 region property_count  \n",
       "0    144.9958  Northern Metropolitan         4019.0  \n",
       "1    144.9984  Northern Metropolitan         4019.0  \n",
       "2    144.9934  Northern Metropolitan         4019.0  \n",
       "3    145.0116  Northern Metropolitan         4019.0  \n",
       "4    144.9944  Northern Metropolitan         4019.0  \n",
       "5    144.9969  Northern Metropolitan         4019.0  \n",
       "6    144.9941  Northern Metropolitan         4019.0  \n",
       "7    144.9965  Northern Metropolitan         4019.0  \n",
       "8    144.9974  Northern Metropolitan         4019.0  \n",
       "9    144.9989  Northern Metropolitan         4019.0  \n",
       "10   144.9953  Northern Metropolitan         4019.0  \n",
       "11   144.9993  Northern Metropolitan         4019.0  \n",
       "12   144.9965  Northern Metropolitan         4019.0  \n",
       "13   144.9936  Northern Metropolitan         4019.0  \n",
       "14   144.9954  Northern Metropolitan         4019.0  \n",
       "15        NaN  Northern Metropolitan         4019.0  \n",
       "16        NaN  Northern Metropolitan         4019.0  \n",
       "17   144.9973  Northern Metropolitan         4019.0  \n",
       "18   144.9989  Northern Metropolitan         4019.0  \n",
       "19        NaN  Northern Metropolitan         4019.0  \n",
       "\n",
       "[20 rows x 21 columns]"
      ]
     },
     "execution_count": 6,
     "metadata": {},
     "output_type": "execute_result"
    }
   ],
   "source": [
    "df.head(20)\n"
   ]
  },
  {
   "cell_type": "code",
   "execution_count": 7,
   "id": "b1ccfe8a",
   "metadata": {},
   "outputs": [
    {
     "name": "stdout",
     "output_type": "stream",
     "text": [
      "suburb             object\n",
      "address            object\n",
      "rooms               int64\n",
      "property_type      object\n",
      "price               Int64\n",
      "sale_type          object\n",
      "seller             object\n",
      "date               object\n",
      "distance          float64\n",
      "postcode            Int64\n",
      "bedrooms            Int64\n",
      "bathroom            Int64\n",
      "car_spaces          Int64\n",
      "land_size           Int64\n",
      "building_area     float64\n",
      "building_year       Int64\n",
      "council            object\n",
      "latitude          float64\n",
      "longitude         float64\n",
      "region             object\n",
      "property_count      Int64\n",
      "dtype: object\n"
     ]
    }
   ],
   "source": [
    "# identify columns that should be integer type\n",
    "numerical_columns = df.select_dtypes(include=['float64']).columns\n",
    "\n",
    "# columns to integers (remove .0) where appropriate\n",
    "for col in numerical_columns:\n",
    "    if df[col].dropna().apply(float.is_integer).all():\n",
    "        df[col] = df[col].astype('Int64')\n",
    "\n",
    "print(df.dtypes)"
   ]
  },
  {
   "cell_type": "code",
   "execution_count": 8,
   "id": "09830244",
   "metadata": {},
   "outputs": [
    {
     "name": "stdout",
     "output_type": "stream",
     "text": [
      "                                                    Unique Values\n",
      "suburb          [Abbotsford, Airport West, Albert Park, Alphin...\n",
      "address         [68 Studley St, 85 Turner St, 25 Bloomburg St,...\n",
      "rooms                     [2, 3, 4, 1, 5, 6, 7, 8, 10, 9, 12, 16]\n",
      "property_type                                           [h, u, t]\n",
      "price           [<NA>, 1480000, 1035000, 1465000, 850000, 1600...\n",
      "sale_type                      [SS, S, VB, SP, PI, SN, W, PN, SA]\n",
      "seller          [Jellis, Biggin, Rounds, Nelson, Collins, Ding...\n",
      "date            [3/09/2016, 3/12/2016, 4/02/2016, 4/03/2017, 4...\n",
      "distance        [2.5, 13.5, 3.3, 6.4, 13.8, 11.1, 6.3, 5.9, 11...\n",
      "postcode        [3067, 3042, 3206, 3078, 3018, 3025, 3143, 303...\n",
      "bedrooms        [2, 3, 4, 6, <NA>, 1, 5, 7, 0, 8, 9, 30, 20, 1...\n",
      "bathroom                 [1, 2, <NA>, 3, 7, 4, 0, 5, 6, 12, 8, 9]\n",
      "car_spaces      [1, 0, 2, <NA>, 6, 5, 4, 3, 8, 7, 11, 26, 9, 1...\n",
      "land_size       [126, 202, 156, 0, 134, 94, 120, 400, 201, 181...\n",
      "building_area   [nan, 79.0, 150.0, 142.0, 220.0, 210.0, 82.0, ...\n",
      "building_year   [<NA>, 1900, 2014, 2006, 1910, 2009, 1860, 189...\n",
      "council         [Yarra City Council, Moonee Valley City Counci...\n",
      "latitude        [-37.8014, -37.7996, -37.8079, -37.8114, -37.8...\n",
      "longitude       [144.9958, 144.9984, 144.9934, 145.0116, 144.9...\n",
      "region          [Northern Metropolitan, Western Metropolitan, ...\n",
      "property_count  [4019, 3464, 3280, 2211, 5301, 5132, 4836, 656...\n"
     ]
    }
   ],
   "source": [
    "# Get the unique values in each column\n",
    "unique_values = df.apply(lambda x: x.unique())\n",
    "\n",
    "# Display the unique values for each column\n",
    "unique_values_table = pd.DataFrame(unique_values, columns=['Unique Values'])\n",
    "print(unique_values_table)\n"
   ]
  },
  {
   "cell_type": "code",
   "execution_count": 9,
   "id": "acb431f3",
   "metadata": {},
   "outputs": [
    {
     "name": "stdout",
     "output_type": "stream",
     "text": [
      "All values in 'suburb', 'region', and 'council' match correctly.\n"
     ]
    }
   ],
   "source": [
    "# group by 'suburb' and check the uniqueness of 'region' and 'council'\n",
    "inconsistent_suburbs = df.groupby('suburb').agg(\n",
    "    region_unique=('region', 'nunique'),\n",
    "    council_area_unique=('council', 'nunique')  # Fixed the typo here\n",
    ")\n",
    "\n",
    "inconsistent_suburbs = inconsistent_suburbs[\n",
    "    (inconsistent_suburbs['region_unique'] > 1) | (inconsistent_suburbs['council_area_unique'] > 1)\n",
    "]\n",
    "\n",
    "if not inconsistent_suburbs.empty:\n",
    "    print(\"Inconsistent Suburbs where region or council doesn't match:\")\n",
    "    print(inconsistent_suburbs.index)\n",
    "else:\n",
    "    print(\"All values in 'suburb', 'region', and 'council' match correctly.\")\n"
   ]
  },
  {
   "cell_type": "code",
   "execution_count": 24,
   "id": "7af23e36",
   "metadata": {},
   "outputs": [
    {
     "name": "stdout",
     "output_type": "stream",
     "text": [
      "region     0\n",
      "council    0\n",
      "dtype: int64\n"
     ]
    }
   ],
   "source": [
    "# Fill missing 'region' and 'council' values by using the most frequent value within the same 'suburb'\n",
    "df['region'] = df.groupby('suburb')['region'].transform(lambda x: x.fillna(x.mode()[0] if not x.mode().empty else 'Unknown'))\n",
    "df['council'] = df.groupby('suburb')['council'].transform(lambda x: x.fillna(x.mode()[0] if not x.mode().empty else 'Unknown'))\n",
    "\n",
    "# Verify that the missing values have been filled\n",
    "print(df[['region', 'council']].isna().sum())\n"
   ]
  },
  {
   "cell_type": "code",
   "execution_count": 22,
   "id": "87ddfe62",
   "metadata": {},
   "outputs": [
    {
     "name": "stdout",
     "output_type": "stream",
     "text": [
      "Columns with empty values and their count:\n",
      "postcode              1\n",
      "bedrooms           6441\n",
      "bathroom           6447\n",
      "car_spaces         6824\n",
      "land_size          9265\n",
      "building_area     16591\n",
      "building_year     15163\n",
      "council               3\n",
      "latitude           6254\n",
      "longitude          6254\n",
      "region                3\n",
      "property_count        3\n",
      "dtype: int64\n"
     ]
    }
   ],
   "source": [
    "# Count the number of NaN values in each column\n",
    "empty_values_count = df.isna().sum()\n",
    "\n",
    "# Filter to show only columns with NaN values (i.e., count > 0)\n",
    "empty_columns = empty_values_count[empty_values_count > 0]\n",
    "\n",
    "# Display the columns with empty values and their counts\n",
    "print(\"Columns with empty values and their count:\")\n",
    "print(empty_columns)\n"
   ]
  },
  {
   "cell_type": "code",
   "execution_count": null,
   "id": "738c2594",
   "metadata": {},
   "outputs": [],
   "source": []
  },
  {
   "cell_type": "markdown",
   "id": "3684587c",
   "metadata": {},
   "source": [
    "# **Assessment Code**"
   ]
  },
  {
   "cell_type": "markdown",
   "id": "1d595e91-5394-44fd-bc37-fb08c07fc402",
   "metadata": {},
   "source": [
    "1. Cast the `price` column in the dataset to an integer type and remove any null values in de `price` column. Which of the following statements is true regarding dropping null values?"
   ]
  },
  {
   "cell_type": "code",
   "execution_count": 10,
   "id": "9c519a7c-a996-4715-8c32-9381332f29cb",
   "metadata": {},
   "outputs": [],
   "source": [
    "# cast 'price' column to integer type, remove null values\n",
    "df.loc[:, 'price'] = pd.to_numeric(df['price'], errors='coerce')\n",
    "df = df.dropna(subset=['price'])\n",
    "# print(df)"
   ]
  },
  {
   "cell_type": "code",
   "execution_count": 11,
   "id": "5359f644-d4e9-4df3-a18c-0819a525a907",
   "metadata": {},
   "outputs": [
    {
     "name": "stdout",
     "output_type": "stream",
     "text": [
      "<IntegerArray>\n",
      "[1480000, 1035000, 1465000,  850000, 1600000,  941000, 1876000, 1636000,\n",
      " 1000000,  745000,\n",
      " ...\n",
      "  931500, 1019500, 1227500,  717760, 1777500,  991888,  750240, 2685000,\n",
      " 1671000, 1605500]\n",
      "Length: 2871, dtype: Int64\n"
     ]
    }
   ],
   "source": [
    "print(df['price'].unique())"
   ]
  },
  {
   "cell_type": "markdown",
   "id": "9d84b2f0-59b3-4019-bd23-217c5fa21bba",
   "metadata": {},
   "source": [
    "A: dropping all null values will lead to a loss of 74% of the data\n",
    "Correct answer: dropping null values will lead to a loss of 21% of the data"
   ]
  },
  {
   "cell_type": "markdown",
   "id": "195e14d7-8a89-463a-9712-8240c4d1a4ee",
   "metadata": {},
   "source": [
    "2. What is the most common type of property, and what percentage of the properties does it represent?"
   ]
  },
  {
   "cell_type": "code",
   "execution_count": 12,
   "id": "ac468523-2ed4-4af2-ab4d-ee291b314642",
   "metadata": {},
   "outputs": [
    {
     "name": "stdout",
     "output_type": "stream",
     "text": [
      "property_type\n",
      "h    18472\n",
      "u     5909\n",
      "t     2866\n",
      "Name: count, dtype: int64\n"
     ]
    }
   ],
   "source": [
    "print(df['property_type'].value_counts())"
   ]
  },
  {
   "cell_type": "code",
   "execution_count": 13,
   "id": "183e0b0e-7b93-4290-a18d-ec8d24636b12",
   "metadata": {},
   "outputs": [],
   "source": [
    "# change property type values\n",
    "property_types = {\n",
    "    'h': 'House',\n",
    "    'u': 'Unit',\n",
    "    't': 'Townhouse'\n",
    "}\n",
    "\n",
    "df['property_type'] = df['property_type'].replace(property_types)"
   ]
  },
  {
   "cell_type": "code",
   "execution_count": 14,
   "id": "39743c1d-30e5-430f-84a9-26b87257ad07",
   "metadata": {},
   "outputs": [
    {
     "name": "stdout",
     "output_type": "stream",
     "text": [
      "property_type\n",
      "House        67.794620\n",
      "Unit         21.686791\n",
      "Townhouse    10.518589\n",
      "Name: count, dtype: float64\n"
     ]
    }
   ],
   "source": [
    "type_counts = df['property_type'].value_counts()\n",
    "\n",
    "type_percentage = (type_counts / len(df)) * 100\n",
    "\n",
    "print(type_percentage)"
   ]
  },
  {
   "cell_type": "markdown",
   "id": "2376751c-5ee0-43ae-91dd-dba87c6594fc",
   "metadata": {},
   "source": [
    "A: The most common type of property is houses, and they represent 67% of the properties."
   ]
  },
  {
   "cell_type": "markdown",
   "id": "e1a62178-763a-4acc-b08e-78965e2effc9",
   "metadata": {},
   "source": [
    "3. Create a graph to show the frequency of each property type n descending order. Which graph technique is the most suitable and straightforward approach for this task?"
   ]
  },
  {
   "cell_type": "code",
   "execution_count": 15,
   "id": "bdeebe41-681e-4631-9495-5a76f74d7bcb",
   "metadata": {},
   "outputs": [
    {
     "data": {
      "image/png": "[encoded data removed]",
      "text/plain": [
       "<Figure size 640x480 with 1 Axes>"
      ]
     },
     "metadata": {},
     "output_type": "display_data"
    }
   ],
   "source": [
    "type_counts.sort_values(ascending=False).plot(kind='bar', color='lightgreen')\n",
    "\n",
    "plt.title('Property Type Frequencies')\n",
    "plt.xticks(rotation=0)\n",
    "plt.show()"
   ]
  },
  {
   "cell_type": "markdown",
   "id": "dffcd46c-f6d9-4991-8a79-f7975b77756f",
   "metadata": {},
   "source": [
    "Answer: barplot\n",
    "Correct answer: Countplot"
   ]
  },
  {
   "cell_type": "markdown",
   "id": "8fa86e0d-d79d-40c6-b56f-62a85568b93e",
   "metadata": {},
   "source": [
    "4. How does the number of rooms impact the median property price? Represent this relationship using a bar chart.\n",
    "   `Rooms`, `Price`"
   ]
  },
  {
   "cell_type": "code",
   "execution_count": 16,
   "id": "a091a7f9-752f-448e-a798-4cb4ea977483",
   "metadata": {},
   "outputs": [
    {
     "data": {
      "text/plain": [
       "rooms\n",
       "1      390000.0\n",
       "2      678000.0\n",
       "3      900000.0\n",
       "4     1205250.0\n",
       "5     1550000.0\n",
       "6     1660000.0\n",
       "7     1350000.0\n",
       "8     1535883.0\n",
       "9     1380000.0\n",
       "10    2115000.0\n",
       "12    2705000.0\n",
       "16    5000000.0\n",
       "Name: price, dtype: Float64"
      ]
     },
     "metadata": {},
     "output_type": "display_data"
    }
   ],
   "source": [
    "# group by 'rooms' and calculate the median 'price' for each group\n",
    "median_price_per_room = df.groupby('rooms')['price'].median()\n",
    "display(median_price_per_room)"
   ]
  },
  {
   "cell_type": "code",
   "execution_count": 17,
   "id": "aeb0b2e7-61c9-4b2f-9675-20160035857b",
   "metadata": {},
   "outputs": [
    {
     "data": {
      "image/png": "[encoded data removed]",
      "text/plain": [
       "<Figure size 640x480 with 1 Axes>"
      ]
     },
     "metadata": {},
     "output_type": "display_data"
    }
   ],
   "source": [
    "median_price_per_room.plot(kind='bar', color='coral')\n",
    "plt.title('Median Property Price by Number of Rooms')\n",
    "plt.xlabel('Number of Rooms')\n",
    "plt.ylabel('Median Property Price')\n",
    "plt.xticks(rotation=0)\n",
    "plt.show()"
   ]
  },
  {
   "cell_type": "markdown",
   "id": "9cf2550d-5581-48ff-875c-7f60f563fbd3",
   "metadata": {},
   "source": [
    "A: The median property price generally increases with the number of rooms, but there are some exceptions where the price decreases or remains the same."
   ]
  },
  {
   "cell_type": "markdown",
   "id": "bcf9cfff-1466-48c2-a43a-969b06e4c02a",
   "metadata": {},
   "source": [
    "5. Since the relationship between property price and number of rooms may not be linear, it is appropriate to use a non-parametric correlation coefficient such as Spearman's to determine the strength of the relationship. Calculate the Spearman correlation coefficient to analyze the relationship between price and number of rooms."
   ]
  },
  {
   "cell_type": "code",
   "execution_count": 18,
   "id": "086cec25-a270-4d25-b842-733781475042",
   "metadata": {},
   "outputs": [
    {
     "name": "stdout",
     "output_type": "stream",
     "text": [
      "Correlation coefficient: 0.5042971590926004\n",
      "P_value: 0.0\n"
     ]
    }
   ],
   "source": [
    "# calculate Spearman's rank correlation coefficient\n",
    "spearman_corr, p_value = spearmanr(df['rooms'], df['price'])\n",
    "\n",
    "print(f'Correlation coefficient: {spearman_corr}')\n",
    "print(f'P_value: {p_value}')"
   ]
  },
  {
   "cell_type": "markdown",
   "id": "3bd66ed8-8855-4531-a428-937b6f3588e6",
   "metadata": {},
   "source": [
    "Interpretation:\n",
    "Spearman's Rank Correlation Coefficient (0.5043):\n",
    "The value of 0.5043 indicates a moderate positive monotonic relationship between the number of rooms and the property price. This means that as the number of rooms increases, the property price tends to increase as well, but not in a perfectly linear manner. There is some level of positive correlation, though it's not extremely strong.\n",
    "P-value (0.0):\n",
    "The p-value of 0.0 is very small, which suggests that the correlation is statistically significant. In other words, there is a very low probability that the observed correlation is due to random chance. You can confidently conclude that there is a meaningful relationship between the number of rooms and the property price in your data.\n",
    "Conclusion:\n",
    "The moderate positive Spearman correlation (0.5043) suggests that as the number of rooms increases, property prices tend to increase, but not perfectly. The strong statistical significance (p-value = 0.0) indicates that this relationship is unlikely to be due to chance."
   ]
  },
  {
   "cell_type": "markdown",
   "id": "6e150b30-7745-44a0-a6b3-3775424323ad",
   "metadata": {},
   "source": [
    "A: The correlation between property price and number of rooms is moderate."
   ]
  },
  {
   "cell_type": "markdown",
   "id": "4fb98a4f-0d6a-4e40-afce-f2da57bd96d8",
   "metadata": {},
   "source": [
    "6. Is there a relationship between the distance from the Central Business District (CBD) and the property price?\n",
    "Use a scatter plot to visualize the relationship and calculate a correlation coefficient to determine the strength and direction of the correlation."
   ]
  },
  {
   "cell_type": "code",
   "execution_count": 19,
   "id": "ad0cf2b7-f279-4bb8-b31c-31daf0306b46",
   "metadata": {},
   "outputs": [],
   "source": [
    "# fill empty values with mean\n",
    "df['distance'] = df['distance'].fillna(df['distance'].mean())"
   ]
  },
  {
   "cell_type": "code",
   "execution_count": 20,
   "id": "a1c19051-ffbc-4453-bbf1-55fbb3fdba05",
   "metadata": {},
   "outputs": [
    {
     "data": {
      "image/png": "[encoded data removed]",
      "text/plain": [
       "<Figure size 640x480 with 1 Axes>"
      ]
     },
     "metadata": {},
     "output_type": "display_data"
    },
    {
     "name": "stdout",
     "output_type": "stream",
     "text": [
      "Pearson correlation coefficient: -0.21138256559555657\n",
      "P-value: 8.33356651089412e-273\n"
     ]
    }
   ],
   "source": [
    "plt.scatter(df['distance'], df['price'], color='limegreen')\n",
    "plt.title('Property Price vs Distance from CBD')\n",
    "plt.xlabel('distance')\n",
    "plt.ylabel('Property Price')\n",
    "plt.grid(True)\n",
    "plt.show()\n",
    "\n",
    "# Pearson correlation coefficient\n",
    "pearson_corr, p_value = pearsonr(df['distance'], df['price'])\n",
    "\n",
    "print(f'Pearson correlation coefficient: {pearson_corr}')\n",
    "print(f'P-value: {p_value}')"
   ]
  },
  {
   "cell_type": "markdown",
   "id": "9598f90e-5ff8-45a4-be20-912d67e591a6",
   "metadata": {},
   "source": [
    "A: There is a weak negative correlation between the distance from CBD and the property price."
   ]
  },
  {
   "cell_type": "markdown",
   "id": "9b41e759-ccbd-4f09-8729-afe47e0bfe3e",
   "metadata": {},
   "source": [
    "7. Is there a relationship between the property size and the property price?"
   ]
  },
  {
   "cell_type": "code",
   "execution_count": 21,
   "id": "ea38812d-387e-423d-9238-87a8cc4c7180",
   "metadata": {},
   "outputs": [
    {
     "ename": "TypeError",
     "evalue": "Invalid value '593.4889333778223' for dtype Int64",
     "output_type": "error",
     "traceback": [
      "\u001b[0;31m---------------------------------------------------------------------------\u001b[0m",
      "\u001b[0;31mTypeError\u001b[0m                                 Traceback (most recent call last)",
      "File \u001b[0;32m~/anaconda3/envs/ironhack/lib/python3.12/site-packages/pandas/core/internals/blocks.py:2328\u001b[0m, in \u001b[0;36mExtensionBlock.fillna\u001b[0;34m(self, value, limit, inplace, downcast, using_cow, already_warned)\u001b[0m\n\u001b[1;32m   2327\u001b[0m \u001b[38;5;28;01mtry\u001b[39;00m:\n\u001b[0;32m-> 2328\u001b[0m     new_values \u001b[38;5;241m=\u001b[39m \u001b[38;5;28mself\u001b[39m\u001b[38;5;241m.\u001b[39mvalues\u001b[38;5;241m.\u001b[39mfillna(\n\u001b[1;32m   2329\u001b[0m         value\u001b[38;5;241m=\u001b[39mvalue, method\u001b[38;5;241m=\u001b[39m\u001b[38;5;28;01mNone\u001b[39;00m, limit\u001b[38;5;241m=\u001b[39mlimit, copy\u001b[38;5;241m=\u001b[39mcopy\n\u001b[1;32m   2330\u001b[0m     )\n\u001b[1;32m   2331\u001b[0m \u001b[38;5;28;01mexcept\u001b[39;00m \u001b[38;5;167;01mTypeError\u001b[39;00m:\n\u001b[1;32m   2332\u001b[0m     \u001b[38;5;66;03m# 3rd party EA that has not implemented copy keyword yet\u001b[39;00m\n",
      "File \u001b[0;32m~/anaconda3/envs/ironhack/lib/python3.12/site-packages/pandas/core/arrays/masked.py:266\u001b[0m, in \u001b[0;36mBaseMaskedArray.fillna\u001b[0;34m(self, value, method, limit, copy)\u001b[0m\n\u001b[1;32m    265\u001b[0m             new_values \u001b[38;5;241m=\u001b[39m \u001b[38;5;28mself\u001b[39m[:]\n\u001b[0;32m--> 266\u001b[0m         new_values[mask] \u001b[38;5;241m=\u001b[39m value\n\u001b[1;32m    267\u001b[0m \u001b[38;5;28;01melse\u001b[39;00m:\n",
      "File \u001b[0;32m~/anaconda3/envs/ironhack/lib/python3.12/site-packages/pandas/core/arrays/masked.py:314\u001b[0m, in \u001b[0;36mBaseMaskedArray.__setitem__\u001b[0;34m(self, key, value)\u001b[0m\n\u001b[1;32m    313\u001b[0m \u001b[38;5;28;01melse\u001b[39;00m:\n\u001b[0;32m--> 314\u001b[0m     value \u001b[38;5;241m=\u001b[39m \u001b[38;5;28mself\u001b[39m\u001b[38;5;241m.\u001b[39m_validate_setitem_value(value)\n\u001b[1;32m    315\u001b[0m     \u001b[38;5;28mself\u001b[39m\u001b[38;5;241m.\u001b[39m_data[key] \u001b[38;5;241m=\u001b[39m value\n",
      "File \u001b[0;32m~/anaconda3/envs/ironhack/lib/python3.12/site-packages/pandas/core/arrays/masked.py:305\u001b[0m, in \u001b[0;36mBaseMaskedArray._validate_setitem_value\u001b[0;34m(self, value)\u001b[0m\n\u001b[1;32m    301\u001b[0m     \u001b[38;5;66;03m# TODO: unsigned checks\u001b[39;00m\n\u001b[1;32m    302\u001b[0m \n\u001b[1;32m    303\u001b[0m \u001b[38;5;66;03m# Note: without the \"str\" here, the f-string rendering raises in\u001b[39;00m\n\u001b[1;32m    304\u001b[0m \u001b[38;5;66;03m#  py38 builds.\u001b[39;00m\n\u001b[0;32m--> 305\u001b[0m \u001b[38;5;28;01mraise\u001b[39;00m \u001b[38;5;167;01mTypeError\u001b[39;00m(\u001b[38;5;124mf\u001b[39m\u001b[38;5;124m\"\u001b[39m\u001b[38;5;124mInvalid value \u001b[39m\u001b[38;5;124m'\u001b[39m\u001b[38;5;132;01m{\u001b[39;00m\u001b[38;5;28mstr\u001b[39m(value)\u001b[38;5;132;01m}\u001b[39;00m\u001b[38;5;124m'\u001b[39m\u001b[38;5;124m for dtype \u001b[39m\u001b[38;5;132;01m{\u001b[39;00m\u001b[38;5;28mself\u001b[39m\u001b[38;5;241m.\u001b[39mdtype\u001b[38;5;132;01m}\u001b[39;00m\u001b[38;5;124m\"\u001b[39m)\n",
      "\u001b[0;31mTypeError\u001b[0m: Invalid value '593.4889333778223' for dtype Int64",
      "\nDuring handling of the above exception, another exception occurred:\n",
      "\u001b[0;31mTypeError\u001b[0m                                 Traceback (most recent call last)",
      "Cell \u001b[0;32mIn[21], line 2\u001b[0m\n\u001b[1;32m      1\u001b[0m \u001b[38;5;66;03m# fill empty values with mean\u001b[39;00m\n\u001b[0;32m----> 2\u001b[0m df[\u001b[38;5;124m'\u001b[39m\u001b[38;5;124mland_size\u001b[39m\u001b[38;5;124m'\u001b[39m] \u001b[38;5;241m=\u001b[39m df[\u001b[38;5;124m'\u001b[39m\u001b[38;5;124mland_size\u001b[39m\u001b[38;5;124m'\u001b[39m]\u001b[38;5;241m.\u001b[39mfillna(df[\u001b[38;5;124m'\u001b[39m\u001b[38;5;124mland_size\u001b[39m\u001b[38;5;124m'\u001b[39m]\u001b[38;5;241m.\u001b[39mmean())\n",
      "File \u001b[0;32m~/anaconda3/envs/ironhack/lib/python3.12/site-packages/pandas/core/generic.py:7349\u001b[0m, in \u001b[0;36mNDFrame.fillna\u001b[0;34m(self, value, method, axis, inplace, limit, downcast)\u001b[0m\n\u001b[1;32m   7342\u001b[0m     \u001b[38;5;28;01melse\u001b[39;00m:\n\u001b[1;32m   7343\u001b[0m         \u001b[38;5;28;01mraise\u001b[39;00m \u001b[38;5;167;01mTypeError\u001b[39;00m(\n\u001b[1;32m   7344\u001b[0m             \u001b[38;5;124m'\u001b[39m\u001b[38;5;124m\"\u001b[39m\u001b[38;5;124mvalue\u001b[39m\u001b[38;5;124m\"\u001b[39m\u001b[38;5;124m parameter must be a scalar, dict \u001b[39m\u001b[38;5;124m'\u001b[39m\n\u001b[1;32m   7345\u001b[0m             \u001b[38;5;124m\"\u001b[39m\u001b[38;5;124mor Series, but you passed a \u001b[39m\u001b[38;5;124m\"\u001b[39m\n\u001b[1;32m   7346\u001b[0m             \u001b[38;5;124mf\u001b[39m\u001b[38;5;124m'\u001b[39m\u001b[38;5;124m\"\u001b[39m\u001b[38;5;132;01m{\u001b[39;00m\u001b[38;5;28mtype\u001b[39m(value)\u001b[38;5;241m.\u001b[39m\u001b[38;5;18m__name__\u001b[39m\u001b[38;5;132;01m}\u001b[39;00m\u001b[38;5;124m\"\u001b[39m\u001b[38;5;124m'\u001b[39m\n\u001b[1;32m   7347\u001b[0m         )\n\u001b[0;32m-> 7349\u001b[0m     new_data \u001b[38;5;241m=\u001b[39m \u001b[38;5;28mself\u001b[39m\u001b[38;5;241m.\u001b[39m_mgr\u001b[38;5;241m.\u001b[39mfillna(\n\u001b[1;32m   7350\u001b[0m         value\u001b[38;5;241m=\u001b[39mvalue, limit\u001b[38;5;241m=\u001b[39mlimit, inplace\u001b[38;5;241m=\u001b[39minplace, downcast\u001b[38;5;241m=\u001b[39mdowncast\n\u001b[1;32m   7351\u001b[0m     )\n\u001b[1;32m   7353\u001b[0m \u001b[38;5;28;01melif\u001b[39;00m \u001b[38;5;28misinstance\u001b[39m(value, (\u001b[38;5;28mdict\u001b[39m, ABCSeries)):\n\u001b[1;32m   7354\u001b[0m     \u001b[38;5;28;01mif\u001b[39;00m axis \u001b[38;5;241m==\u001b[39m \u001b[38;5;241m1\u001b[39m:\n",
      "File \u001b[0;32m~/anaconda3/envs/ironhack/lib/python3.12/site-packages/pandas/core/internals/base.py:186\u001b[0m, in \u001b[0;36mDataManager.fillna\u001b[0;34m(self, value, limit, inplace, downcast)\u001b[0m\n\u001b[1;32m    182\u001b[0m \u001b[38;5;28;01mif\u001b[39;00m limit \u001b[38;5;129;01mis\u001b[39;00m \u001b[38;5;129;01mnot\u001b[39;00m \u001b[38;5;28;01mNone\u001b[39;00m:\n\u001b[1;32m    183\u001b[0m     \u001b[38;5;66;03m# Do this validation even if we go through one of the no-op paths\u001b[39;00m\n\u001b[1;32m    184\u001b[0m     limit \u001b[38;5;241m=\u001b[39m libalgos\u001b[38;5;241m.\u001b[39mvalidate_limit(\u001b[38;5;28;01mNone\u001b[39;00m, limit\u001b[38;5;241m=\u001b[39mlimit)\n\u001b[0;32m--> 186\u001b[0m \u001b[38;5;28;01mreturn\u001b[39;00m \u001b[38;5;28mself\u001b[39m\u001b[38;5;241m.\u001b[39mapply_with_block(\n\u001b[1;32m    187\u001b[0m     \u001b[38;5;124m\"\u001b[39m\u001b[38;5;124mfillna\u001b[39m\u001b[38;5;124m\"\u001b[39m,\n\u001b[1;32m    188\u001b[0m     value\u001b[38;5;241m=\u001b[39mvalue,\n\u001b[1;32m    189\u001b[0m     limit\u001b[38;5;241m=\u001b[39mlimit,\n\u001b[1;32m    190\u001b[0m     inplace\u001b[38;5;241m=\u001b[39minplace,\n\u001b[1;32m    191\u001b[0m     downcast\u001b[38;5;241m=\u001b[39mdowncast,\n\u001b[1;32m    192\u001b[0m     using_cow\u001b[38;5;241m=\u001b[39musing_copy_on_write(),\n\u001b[1;32m    193\u001b[0m     already_warned\u001b[38;5;241m=\u001b[39m_AlreadyWarned(),\n\u001b[1;32m    194\u001b[0m )\n",
      "File \u001b[0;32m~/anaconda3/envs/ironhack/lib/python3.12/site-packages/pandas/core/internals/managers.py:363\u001b[0m, in \u001b[0;36mBaseBlockManager.apply\u001b[0;34m(self, f, align_keys, **kwargs)\u001b[0m\n\u001b[1;32m    361\u001b[0m         applied \u001b[38;5;241m=\u001b[39m b\u001b[38;5;241m.\u001b[39mapply(f, \u001b[38;5;241m*\u001b[39m\u001b[38;5;241m*\u001b[39mkwargs)\n\u001b[1;32m    362\u001b[0m     \u001b[38;5;28;01melse\u001b[39;00m:\n\u001b[0;32m--> 363\u001b[0m         applied \u001b[38;5;241m=\u001b[39m \u001b[38;5;28mgetattr\u001b[39m(b, f)(\u001b[38;5;241m*\u001b[39m\u001b[38;5;241m*\u001b[39mkwargs)\n\u001b[1;32m    364\u001b[0m     result_blocks \u001b[38;5;241m=\u001b[39m extend_blocks(applied, result_blocks)\n\u001b[1;32m    366\u001b[0m out \u001b[38;5;241m=\u001b[39m \u001b[38;5;28mtype\u001b[39m(\u001b[38;5;28mself\u001b[39m)\u001b[38;5;241m.\u001b[39mfrom_blocks(result_blocks, \u001b[38;5;28mself\u001b[39m\u001b[38;5;241m.\u001b[39maxes)\n",
      "File \u001b[0;32m~/anaconda3/envs/ironhack/lib/python3.12/site-packages/pandas/core/internals/blocks.py:2334\u001b[0m, in \u001b[0;36mExtensionBlock.fillna\u001b[0;34m(self, value, limit, inplace, downcast, using_cow, already_warned)\u001b[0m\n\u001b[1;32m   2331\u001b[0m \u001b[38;5;28;01mexcept\u001b[39;00m \u001b[38;5;167;01mTypeError\u001b[39;00m:\n\u001b[1;32m   2332\u001b[0m     \u001b[38;5;66;03m# 3rd party EA that has not implemented copy keyword yet\u001b[39;00m\n\u001b[1;32m   2333\u001b[0m     refs \u001b[38;5;241m=\u001b[39m \u001b[38;5;28;01mNone\u001b[39;00m\n\u001b[0;32m-> 2334\u001b[0m     new_values \u001b[38;5;241m=\u001b[39m \u001b[38;5;28mself\u001b[39m\u001b[38;5;241m.\u001b[39mvalues\u001b[38;5;241m.\u001b[39mfillna(value\u001b[38;5;241m=\u001b[39mvalue, method\u001b[38;5;241m=\u001b[39m\u001b[38;5;28;01mNone\u001b[39;00m, limit\u001b[38;5;241m=\u001b[39mlimit)\n\u001b[1;32m   2335\u001b[0m     \u001b[38;5;66;03m# issue the warning *after* retrying, in case the TypeError\u001b[39;00m\n\u001b[1;32m   2336\u001b[0m     \u001b[38;5;66;03m#  was caused by an invalid fill_value\u001b[39;00m\n\u001b[1;32m   2337\u001b[0m     warnings\u001b[38;5;241m.\u001b[39mwarn(\n\u001b[1;32m   2338\u001b[0m         \u001b[38;5;66;03m# GH#53278\u001b[39;00m\n\u001b[1;32m   2339\u001b[0m         \u001b[38;5;124m\"\u001b[39m\u001b[38;5;124mExtensionArray.fillna added a \u001b[39m\u001b[38;5;124m'\u001b[39m\u001b[38;5;124mcopy\u001b[39m\u001b[38;5;124m'\u001b[39m\u001b[38;5;124m keyword in pandas \u001b[39m\u001b[38;5;124m\"\u001b[39m\n\u001b[0;32m   (...)\u001b[0m\n\u001b[1;32m   2345\u001b[0m         stacklevel\u001b[38;5;241m=\u001b[39mfind_stack_level(),\n\u001b[1;32m   2346\u001b[0m     )\n",
      "File \u001b[0;32m~/anaconda3/envs/ironhack/lib/python3.12/site-packages/pandas/core/arrays/masked.py:266\u001b[0m, in \u001b[0;36mBaseMaskedArray.fillna\u001b[0;34m(self, value, method, limit, copy)\u001b[0m\n\u001b[1;32m    264\u001b[0m         \u001b[38;5;28;01melse\u001b[39;00m:\n\u001b[1;32m    265\u001b[0m             new_values \u001b[38;5;241m=\u001b[39m \u001b[38;5;28mself\u001b[39m[:]\n\u001b[0;32m--> 266\u001b[0m         new_values[mask] \u001b[38;5;241m=\u001b[39m value\n\u001b[1;32m    267\u001b[0m \u001b[38;5;28;01melse\u001b[39;00m:\n\u001b[1;32m    268\u001b[0m     \u001b[38;5;28;01mif\u001b[39;00m copy:\n",
      "File \u001b[0;32m~/anaconda3/envs/ironhack/lib/python3.12/site-packages/pandas/core/arrays/masked.py:314\u001b[0m, in \u001b[0;36mBaseMaskedArray.__setitem__\u001b[0;34m(self, key, value)\u001b[0m\n\u001b[1;32m    312\u001b[0m     \u001b[38;5;28mself\u001b[39m\u001b[38;5;241m.\u001b[39m_mask[key] \u001b[38;5;241m=\u001b[39m \u001b[38;5;28;01mTrue\u001b[39;00m\n\u001b[1;32m    313\u001b[0m \u001b[38;5;28;01melse\u001b[39;00m:\n\u001b[0;32m--> 314\u001b[0m     value \u001b[38;5;241m=\u001b[39m \u001b[38;5;28mself\u001b[39m\u001b[38;5;241m.\u001b[39m_validate_setitem_value(value)\n\u001b[1;32m    315\u001b[0m     \u001b[38;5;28mself\u001b[39m\u001b[38;5;241m.\u001b[39m_data[key] \u001b[38;5;241m=\u001b[39m value\n\u001b[1;32m    316\u001b[0m     \u001b[38;5;28mself\u001b[39m\u001b[38;5;241m.\u001b[39m_mask[key] \u001b[38;5;241m=\u001b[39m \u001b[38;5;28;01mFalse\u001b[39;00m\n",
      "File \u001b[0;32m~/anaconda3/envs/ironhack/lib/python3.12/site-packages/pandas/core/arrays/masked.py:305\u001b[0m, in \u001b[0;36mBaseMaskedArray._validate_setitem_value\u001b[0;34m(self, value)\u001b[0m\n\u001b[1;32m    300\u001b[0m         \u001b[38;5;28;01mreturn\u001b[39;00m value\n\u001b[1;32m    301\u001b[0m     \u001b[38;5;66;03m# TODO: unsigned checks\u001b[39;00m\n\u001b[1;32m    302\u001b[0m \n\u001b[1;32m    303\u001b[0m \u001b[38;5;66;03m# Note: without the \"str\" here, the f-string rendering raises in\u001b[39;00m\n\u001b[1;32m    304\u001b[0m \u001b[38;5;66;03m#  py38 builds.\u001b[39;00m\n\u001b[0;32m--> 305\u001b[0m \u001b[38;5;28;01mraise\u001b[39;00m \u001b[38;5;167;01mTypeError\u001b[39;00m(\u001b[38;5;124mf\u001b[39m\u001b[38;5;124m\"\u001b[39m\u001b[38;5;124mInvalid value \u001b[39m\u001b[38;5;124m'\u001b[39m\u001b[38;5;132;01m{\u001b[39;00m\u001b[38;5;28mstr\u001b[39m(value)\u001b[38;5;132;01m}\u001b[39;00m\u001b[38;5;124m'\u001b[39m\u001b[38;5;124m for dtype \u001b[39m\u001b[38;5;132;01m{\u001b[39;00m\u001b[38;5;28mself\u001b[39m\u001b[38;5;241m.\u001b[39mdtype\u001b[38;5;132;01m}\u001b[39;00m\u001b[38;5;124m\"\u001b[39m)\n",
      "\u001b[0;31mTypeError\u001b[0m: Invalid value '593.4889333778223' for dtype Int64"
     ]
    }
   ],
   "source": [
    "# fill empty values with mean\n",
    "df['land_size'] = df['land_size'].fillna(df['land_size'].mean())"
   ]
  },
  {
   "cell_type": "code",
   "execution_count": null,
   "id": "07f2d299-4611-4309-a378-f8f786c85aae",
   "metadata": {},
   "outputs": [],
   "source": [
    "# Scatter plot to visualize the relationship\n",
    "plt.scatter(df['land_size'], df['price'], color='hotpink')\n",
    "plt.title('Property Price vs Property Size')\n",
    "plt.xlabel('Size (land and building)')\n",
    "plt.ylabel('price')\n",
    "plt.grid(True)\n",
    "plt.show()\n",
    "\n",
    "# Calculate Pearson correlation coefficient\n",
    "pearson_corr, p_value = pearsonr(df['land_size'], df['price'])\n",
    "\n",
    "# Print the correlation coefficient and p-value\n",
    "print(f'Pearson correlation coefficient: {pearson_corr}')\n",
    "print(f'P-value: {p_value}')"
   ]
  },
  {
   "cell_type": "markdown",
   "id": "860bfc6b-cfe3-4996-9ad4-2fd9729bbbe8",
   "metadata": {},
   "source": [
    "A: There is a weak positive linear relationship between property size and property price.\n",
    "Correct answer: There is a weak positive correlation between the two variables, but the relationship might not be linear."
   ]
  },
  {
   "cell_type": "markdown",
   "id": "f9e216e9-a14a-4ef7-8f33-6f70bac5742b",
   "metadata": {},
   "source": [
    "8. When looking visually at the relationship between land size and property price, a scatter plot might not be the most informative way to visualize this relationship.\n",
    "We can use a **quantile-based discretization function** to categorize the Landsize variable and create a bar plot.\n",
    "When using **q=7**, how does the relationship between land size and median property price change compared to using a lower quantile value?"
   ]
  },
  {
   "cell_type": "markdown",
   "id": "9a014afc-b877-4aa3-a7d4-0a39f1254369",
   "metadata": {},
   "source": [
    "When using a quantile-based discretization function to categorize the Landsize variable into quantiles (such as q=7), you're dividing the land size into 7 equal-sized groups, each containing approximately the same number of data points. This approach transforms a continuous variable (land size) into a categorical one, where each group corresponds to a range of land sizes. By comparing this method to a lower quantile value (such as q=4), you can observe how the relationship between land size and median property price changes.\n",
    "\n",
    "Summary:\n",
    "Using q=7 provides a higher level of detail, allowing you to more clearly observe subtle differences in property price across land sizes.\n",
    "Using a lower quantile value (e.g., q=4) smooths out these differences, resulting in a less granular view of the relationship, which could mask finer distinctions in property prices as they relate to land size."
   ]
  },
  {
   "cell_type": "markdown",
   "id": "3188c12c-b5b2-4355-b31f-9f6eacb8a600",
   "metadata": {},
   "source": [
    "A: The relationship between land size and property price becomes more pronounced when using q=7 compared to a lower quantile value.\n",
    "Correct answer: The frequency of properties with a larger land size having a lower price than properties with a smaller land size increases when using q=7, compared to a lower quantile value."
   ]
  },
  {
   "cell_type": "markdown",
   "id": "6d9391dd-927f-4801-b634-f33756188bf7",
   "metadata": {},
   "source": [
    "Explanation:\n",
    "Using q=7 means dividing the land size into 7 quantiles, which creates more granular groups, allowing for finer distinctions in the relationship between land size and property price. This increases the resolution of the data, helping to reveal more subtle trends and variations.\n",
    "In contrast, using a lower quantile value (e.g., q=4) results in fewer groups, which may smooth out the relationship and make it harder to see more pronounced differences.\n",
    "Thus, when using q=7, the relationship between land size and property price is more pronounced due to the finer categorization, making it easier to observe variations across different land size ranges."
   ]
  },
  {
   "cell_type": "markdown",
   "id": "dd3ad0f2-2df4-419b-b61e-edd61c1aaa15",
   "metadata": {},
   "source": [
    "9. Does the dataset contain any properties that are priced significantly above or below the average? To investigate, create a box plot to detect potential outliers, and use Tukey's method with a 1.5 threshold to create a new dataframe without these outliers. \n",
    "What percentage of properties are identified as outliers using Tukey's method?"
   ]
  },
  {
   "cell_type": "code",
   "execution_count": null,
   "id": "71919182-404e-4d0d-b1dd-9754f8de2e3f",
   "metadata": {},
   "outputs": [],
   "source": [
    "# box plot to visually identify potential outliers\n",
    "plt.figure(figsize=(10, 6))\n",
    "plt.boxplot(df['price'])\n",
    "plt.title('Property Prices')\n",
    "plt.ylabel('price')\n",
    "plt.show()"
   ]
  },
  {
   "cell_type": "code",
   "execution_count": null,
   "id": "e13c4967-7391-4bc3-84e6-b3b0c807591b",
   "metadata": {},
   "outputs": [],
   "source": [
    "# Tukey's method\n",
    "\n",
    "# thresholds\n",
    "Q1 = df['price'].quantile(0.25)\n",
    "Q3 = df['price'].quantile(0.75)\n",
    "IQR = Q3 - Q1\n",
    "\n",
    "# Tukey's method to detect outliers\n",
    "lower_bound = Q1 - 1.5 * IQR\n",
    "upper_bound = Q3 + 1.5 * IQR\n",
    "\n",
    "# identify outliers\n",
    "outliers = df[(df['price'] < lower_bound) | (df['price'] > upper_bound)]\n",
    "\n",
    "print(f'Lower bound: {lower_bound}')\n",
    "print(f'Upper bound: {upper_bound}')\n",
    "# print(f'Outliers: {outliers}')"
   ]
  },
  {
   "cell_type": "code",
   "execution_count": null,
   "id": "8064d7d0-b20c-47d1-8abf-0f4bf1701763",
   "metadata": {},
   "outputs": [],
   "source": [
    "# new df without outliers\n",
    "outlier_free_df = df[(df['price'] >= lower_bound) & (df['price'] <= upper_bound)]\n",
    "\n",
    "# percentage of outliers\n",
    "percentage_outliers = (len(outliers) / len(df)) * 100\n",
    "\n",
    "print(f'Percentage of outliers: {percentage_outliers:.2f}%')"
   ]
  },
  {
   "cell_type": "markdown",
   "id": "7561476f-9228-469c-9ed2-076eb0fbf6a1",
   "metadata": {},
   "source": [
    "A: 4.69%"
   ]
  },
  {
   "cell_type": "markdown",
   "id": "ca5f8f2f-f2b0-4015-9739-8040e0ca2ec5",
   "metadata": {},
   "source": [
    "10. How is the property price distribution? Create a QQ (Quantile-Quantile) Plot to compare the distribution of property prices to a normal distribution visually, and calculate the skew and curtosis to get a better understanding of the shape of the distribution analytically."
   ]
  },
  {
   "cell_type": "code",
   "execution_count": null,
   "id": "cd3e982c-c479-47ca-8cb4-31ae720ebec3",
   "metadata": {},
   "outputs": [],
   "source": [
    "# create QQ plot to compare distribution\n",
    "plt.figure(figsize=(8, 6))\n",
    "stats.probplot(df['price'], dist='norm', plot=plt)\n",
    "plt.title('QQ Plot: Property Prices vs Normal Distribution')\n",
    "plt.show()"
   ]
  },
  {
   "cell_type": "code",
   "execution_count": null,
   "id": "1101fc0f-8da5-42c8-8b68-3d92644a2743",
   "metadata": {},
   "outputs": [],
   "source": [
    "# calculate skewness and kurtosis\n",
    "skewness = df['price'].skew()\n",
    "kurtosis = df['price'].kurtosis()\n",
    "\n",
    "print(f'Skewness: {skewness:.2f}')\n",
    "print(f'Kurtosis: {kurtosis:.2f}')"
   ]
  },
  {
   "cell_type": "markdown",
   "id": "f65022b3-d0e0-464b-a5c5-44318c8119eb",
   "metadata": {},
   "source": [
    "A: The property price distribution is positively skewed."
   ]
  },
  {
   "cell_type": "markdown",
   "id": "b336303a-cebf-4b97-a361-afcf50a0c400",
   "metadata": {},
   "source": [
    "Explanation:\n",
    "Skewness of 2.59 indicates a positive skew, meaning the distribution is right-skewed (with a long tail on the right side), where most property prices are lower, but a few high-priced properties create a longer tail on the right.\n",
    "\n",
    "The kurtosis value of 13.10 confirms the presence of heavy tails (more extreme high values than normal), which further supports the idea of outliers in the higher price range, a characteristic of a positively skewed distribution."
   ]
  },
  {
   "cell_type": "markdown",
   "id": "c094e0e4-df96-4f90-b873-17a10e9e6f34",
   "metadata": {},
   "source": [
    "11. What is the outcome of performing a normality test, such as the *Kolmogorov-Smirnov Test*, on the distribution of property prices? Specifically, what possible conclusions can be drawn from the test results regarding the similarity of the distribution to a normal distribution?"
   ]
  },
  {
   "cell_type": "markdown",
   "id": "85c538f9-4652-4908-bd85-af0812974cc5",
   "metadata": {},
   "source": [
    "Kolmogorov-Smirnov Test:\n",
    "Null Hypothesis (H₀): The data follows a normal distribution.\n",
    "Alternative Hypothesis (H₁): The data does not follow a normal distribution."
   ]
  },
  {
   "cell_type": "code",
   "execution_count": null,
   "id": "cce719d1-2a6e-4d94-9736-b1435c049e27",
   "metadata": {},
   "outputs": [],
   "source": [
    "# standardize prices (mean 0, std 1)\n",
    "standardized_prices = (df['price'] - df['price'].mean()) / df['price'].std()\n",
    "# print(standardized_prices)\n",
    "\n",
    "# Kolmogorov-Smirnov test\n",
    "ks_statistic, p_value = stats.kstest(standardized_prices, 'norm')\n",
    "\n",
    "print(f'KS statistic: {ks_statistic:.4f}')\n",
    "print(f'p-value: {p_value:.4f}')\n",
    "\n",
    "# interpretation based on p-value\n",
    "if p_value < 0.05:\n",
    "    print('The null hypothesis is rejected: The distribution of property prices is significantly different from a normal distribution.')\n",
    "else:\n",
    "    print('The null hypothesis cannot be rejected: The distribution of property prices is not significantly different from a normal distribution.')"
   ]
  },
  {
   "cell_type": "markdown",
   "id": "427a137d-7938-40ca-b25a-7056b7263163",
   "metadata": {},
   "source": [
    "A: The test results indicate that the distribution of property prices in the Melbourne housing market dataset is significantly different from a normal distribution."
   ]
  },
  {
   "cell_type": "markdown",
   "id": "9fd6a43b-4602-41f9-b1f9-d701a120ad25",
   "metadata": {},
   "source": [
    "12. How do property prices differ between different property types? Create a box plot to show the distribution of property prices for each property type."
   ]
  },
  {
   "cell_type": "code",
   "execution_count": null,
   "id": "3e0cc026-fc1a-47be-bffa-203ea790d461",
   "metadata": {},
   "outputs": [],
   "source": [
    "# a box plot to show the distribution of property prices for each property type\n",
    "plt.figure(figsize=(12, 8))\n",
    "sns.boxplot(x='property_type', y='price', data=df)\n",
    "\n",
    "plt.title('Property Price Distribution by Property Type', fontsize=16)\n",
    "plt.xlabel('Property Type', fontsize=14)\n",
    "plt.ylabel('Property Price', fontsize=14)\n",
    "\n",
    "plt.xticks(rotation=0)\n",
    "plt.tight_layout()\n",
    "plt.show()"
   ]
  },
  {
   "cell_type": "markdown",
   "id": "45282e14-9447-48bb-89cd-54184f3458b1",
   "metadata": {},
   "source": [
    "A: Houses have higher property prices than units and townhouses."
   ]
  },
  {
   "cell_type": "markdown",
   "id": "1b334f06-5b4c-454e-9627-77828020f37f",
   "metadata": {},
   "source": [
    "13. What is the region with the highest median price? Conversely, which region has the lowest median price?"
   ]
  },
  {
   "cell_type": "code",
   "execution_count": null,
   "id": "cb4a0d4f-97e6-4856-a463-cfe6f79f74bc",
   "metadata": {},
   "outputs": [],
   "source": [
    "import pandas as pd\n",
    "\n",
    "# Assuming you already have the DataFrame df with 'price' and 'region' columns\n",
    "\n",
    "# Group by 'region' and calculate the median of 'price'\n",
    "region_medians = df.groupby('region')['price'].median()\n",
    "\n",
    "# Find the region with the highest median price\n",
    "highest_median_region = region_medians.idxmax()\n",
    "highest_median_price = region_medians.max()\n",
    "\n",
    "# Find the region with the lowest median price\n",
    "lowest_median_region = region_medians.idxmin()\n",
    "lowest_median_price = region_medians.min()\n",
    "\n",
    "# Print the results\n",
    "print(f'Region with the highest median price: {highest_median_region} (Median Price: {highest_median_price})')\n",
    "print(f'Region with the lowest median price: {lowest_median_region} (Median Price: {lowest_median_price})')\n"
   ]
  },
  {
   "cell_type": "markdown",
   "id": "24bb260c-2b39-4524-989f-b347f2fafb95",
   "metadata": {},
   "source": [
    "A: Most expensive: Southern Metropolitan, Cheapest: Western Victoria"
   ]
  },
  {
   "cell_type": "markdown",
   "id": "041efc95-fc82-419a-b26a-fffede51e644",
   "metadata": {},
   "source": [
    "14. Is there a statistically significant association between the region and the price of properties? Use the *chi square test* to assess the independence between region and price, and *Cramer's V coefficient* to quantify the strength of the association between these two features.\n",
    "\n",
    "        It's worth noting that in order to perform this analysis, both features need to be categorical. Divide the price variable into five distinc ranges.\n",
    "        Use Cohen (1988) interpretation on Cramer's V, which depends on the degrees of freedom."
   ]
  },
  {
   "cell_type": "code",
   "execution_count": null,
   "id": "8b12f156-77ff-4d45-b444-940d85ad35f9",
   "metadata": {},
   "outputs": [],
   "source": [
    "# Step 1: Categorize the 'price' column into five distinct ranges\n",
    "price_bins = [0, 300000, 500000, 700000, 900000, np.inf]\n",
    "price_labels = ['0-300k', '300k-500k', '500k-700k', '700k-900k', '900k+']\n",
    "df['price_category'] = pd.cut(df['price'], bins=price_bins, labels=price_labels)\n",
    "\n",
    "# Step 2: Create a contingency table of 'price_category' vs 'region'\n",
    "contingency_table = pd.crosstab(df['price_category'], df['region'])\n",
    "\n",
    "# Step 3: Perform the Chi-Square Test of Independence\n",
    "chi2_stat, p_val, dof, expected = stats.chi2_contingency(contingency_table)\n",
    "\n",
    "# Step 4: Calculate Cramer's V coefficient\n",
    "n = contingency_table.sum().sum()  # Total number of observations\n",
    "min_dim = min(contingency_table.shape) - 1  # Minimum of (rows-1, columns-1)\n",
    "cramers_v = np.sqrt(chi2_stat / (n * min_dim))\n",
    "\n",
    "# Step 5: Interpret the results\n",
    "print(f\"Chi-Square Test Statistic: {chi2_stat:.4f}\")\n",
    "print(f\"p-value: {p_val:.4f}\")\n",
    "print(f\"Cramer's V: {cramers_v:.4f}\")\n",
    "\n",
    "# Chi-Square Test Interpretation\n",
    "if p_val < 0.05:\n",
    "    print(\"There is a statistically significant association between region and price (reject H0).\")\n",
    "else:\n",
    "    print(\"There is no statistically significant association between region and price (fail to reject H0).\")\n",
    "\n",
    "# Cramer's V Interpretation based on Cohen (1988)\n",
    "if cramers_v < 0.1:\n",
    "    print(\"The association between region and price is weak.\")\n",
    "elif cramers_v < 0.3:\n",
    "    print(\"The association between region and price is moderate.\")\n",
    "else:\n",
    "    print(\"The association between region and price is strong.\")\n",
    "\n",
    "# Optionally, visualize the contingency table\n",
    "sns.heatmap(contingency_table, annot=True, cmap=\"Blues\", fmt=\"d\")\n",
    "plt.title(\"Contingency Table Heatmap\")\n",
    "plt.show()"
   ]
  },
  {
   "cell_type": "markdown",
   "id": "082354e9-eb1f-4159-8dd8-d975a7972e7a",
   "metadata": {},
   "source": [
    "A: Yes, there is a significant relationship between the region and the price of properties, and the relationship is medium."
   ]
  },
  {
   "cell_type": "markdown",
   "id": "feeeb94d-a8d1-49c2-ba3b-d350ac1572aa",
   "metadata": {},
   "source": [
    "15. How much was the percentage increase or decrease in *median price* of properties sold between the earliest year and the latest year (`Date` column)?"
   ]
  },
  {
   "cell_type": "code",
   "execution_count": null,
   "id": "25fce847-e07b-4dfe-ad9c-d686bf6f05cd",
   "metadata": {},
   "outputs": [],
   "source": [
    "# Step 1: Ensure 'date' is in datetime format and extract the year\n",
    "df['date'] = pd.to_datetime(df['date'], errors='coerce')  # Convert to datetime, handle errors if any\n",
    "df['year'] = df['date'].dt.year  # Extract year from the Date column\n",
    "\n",
    "# Step 2: Group by Year and calculate the median price for each year\n",
    "median_prices_by_year = df.groupby('year')['price'].median()\n",
    "\n",
    "# Step 3: Get the earliest and latest year\n",
    "# earliest_year = median_prices_by_year.idxmin()  # The year with the minimum median price\n",
    "# latest_year = median_prices_by_year.idxmax()   # The year with the maximum median price\n",
    "earliest_year = 2016\n",
    "latest_year = 2018\n",
    "# Step 4: Calculate the median price in the earliest and latest year\n",
    "median_price_earliest = median_prices_by_year[earliest_year]\n",
    "median_price_latest = median_prices_by_year[latest_year]\n",
    "\n",
    "# Step 5: Calculate the percentage change in median price\n",
    "percentage_change = ((median_price_latest - median_price_earliest) / median_price_earliest) * 100\n",
    "\n",
    "# Print results\n",
    "print(f\"Median price in {earliest_year}: {median_price_earliest}\")\n",
    "print(f\"Median price in {latest_year}: {median_price_latest}\")\n",
    "print(f\"Percentage change in median price from {earliest_year} to {latest_year}: {percentage_change:.2f}%\")"
   ]
  },
  {
   "cell_type": "code",
   "execution_count": null,
   "id": "6a14a0c1-fafd-4f36-b13e-289bd60ee038",
   "metadata": {},
   "outputs": [],
   "source": [
    "print(df['year'].unique())"
   ]
  },
  {
   "cell_type": "markdown",
   "id": "a56c412e-d7bd-4214-bb7d-02c8eb7bb11f",
   "metadata": {},
   "source": [
    "A: -10.37%\n",
    "Correct answer: -5.48%"
   ]
  },
  {
   "cell_type": "markdown",
   "id": "644f085e-283a-4c55-a350-0eeed54b254c",
   "metadata": {},
   "source": [
    "16. Is there a specific month during which more houses are sold?"
   ]
  },
  {
   "cell_type": "code",
   "execution_count": null,
   "id": "62e48c5d-3bd8-4bd5-b640-beb6afcc0688",
   "metadata": {},
   "outputs": [],
   "source": [
    "# convert 'date' to datetime format\n",
    "df['date'] = pd.to_datetime(df['date'], errors='coerce')  # Ensure Date is in datetime format\n",
    "\n",
    "# extract the month from the 'date' column\n",
    "df['month'] = df['date'].dt.month\n",
    "\n",
    "# count the number of properties sold per month\n",
    "sales_per_month = df['month'].value_counts().sort_index()  # Count occurrences per month, sorted by month\n",
    "\n",
    "# Step 4: Identify the month with the most sales\n",
    "most_sales_month = sales_per_month.idxmax()\n",
    "most_sales_count = sales_per_month.max()\n",
    "\n",
    "# Step 5: Print the results\n",
    "print(f\"The month with the most houses sold is month {most_sales_month} with {most_sales_count} sales.\")\n"
   ]
  },
  {
   "cell_type": "markdown",
   "id": "5392ab8c-2781-482a-a6f6-4a447a56a873",
   "metadata": {},
   "source": [
    "A: March.\n",
    "Correct answer: November."
   ]
  }
 ],
 "metadata": {
  "kernelspec": {
   "display_name": "ironhack",
   "language": "python",
   "name": "python3"
  },
  "language_info": {
   "codemirror_mode": {
    "name": "ipython",
    "version": 3
   },
   "file_extension": ".py",
   "mimetype": "text/x-python",
   "name": "python",
   "nbconvert_exporter": "python",
   "pygments_lexer": "ipython3",
   "version": "3.12.7"
  }
 },
 "nbformat": 4,
 "nbformat_minor": 5
}
