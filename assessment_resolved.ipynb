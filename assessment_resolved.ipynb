{
 "cells": [
  {
   "cell_type": "code",
   "execution_count": null,
   "id": "08d985ae-e1f4-443e-8ac5-18b479d15587",
   "metadata": {},
   "outputs": [],
   "source": [
    "import pandas as pd\n",
    "import numpy as np\n",
    "import matplotlib.pyplot as plt\n",
    "import seaborn as sns\n",
    "from scipy import stats\n",
    "from scipy.stats import spearmanr\n",
    "from scipy.stats import pearsonr"
   ]
  },
  {
   "cell_type": "code",
   "execution_count": null,
   "id": "b1b4d226-41d0-46ad-be84-dca0567bc781",
   "metadata": {},
   "outputs": [],
   "source": [
    "df = pd.read_csv('./data/Melbourne_housing_FULL.txt')\n",
    "# print(df)\n",
    "df.head()"
   ]
  },
  {
   "cell_type": "markdown",
   "id": "1d595e91-5394-44fd-bc37-fb08c07fc402",
   "metadata": {},
   "source": [
    "1. Cast the `price` column in the dataset to an integer type and remove any null values in de `price` column. Which of the following statements is true regarding dropping null values?"
   ]
  },
  {
   "cell_type": "code",
   "execution_count": null,
   "id": "9c519a7c-a996-4715-8c32-9381332f29cb",
   "metadata": {},
   "outputs": [],
   "source": [
    "# cast 'Price' column to integer type, remove null values\n",
    "df.loc[:, 'Price'] = pd.to_numeric(df['Price'], errors='coerce')\n",
    "df = df.dropna(subset=['Price'])\n",
    "# print(df)"
   ]
  },
  {
   "cell_type": "code",
   "execution_count": null,
   "id": "5359f644-d4e9-4df3-a18c-0819a525a907",
   "metadata": {},
   "outputs": [],
   "source": [
    "print(df['Price'].unique())"
   ]
  },
  {
   "cell_type": "markdown",
   "id": "9d84b2f0-59b3-4019-bd23-217c5fa21bba",
   "metadata": {},
   "source": [
    "Answer: dropping null values will lead to a loss of 21% of the data"
   ]
  },
  {
   "cell_type": "markdown",
   "id": "195e14d7-8a89-463a-9712-8240c4d1a4ee",
   "metadata": {},
   "source": [
    "2. What is the most common type of property, and what percentage of the properties does it represent?"
   ]
  },
  {
   "cell_type": "code",
   "execution_count": null,
   "id": "ac468523-2ed4-4af2-ab4d-ee291b314642",
   "metadata": {},
   "outputs": [],
   "source": [
    "print(df['Type'].value_counts())"
   ]
  },
  {
   "cell_type": "code",
   "execution_count": null,
   "id": "183e0b0e-7b93-4290-a18d-ec8d24636b12",
   "metadata": {},
   "outputs": [],
   "source": [
    "# change property type values\n",
    "property_types = {\n",
    "    'h': 'House',\n",
    "    'u': 'Unit',\n",
    "    't': 'Townhouse'\n",
    "}\n",
    "\n",
    "df['Type'] = df['Type'].replace(property_types)"
   ]
  },
  {
   "cell_type": "code",
   "execution_count": null,
   "id": "39743c1d-30e5-430f-84a9-26b87257ad07",
   "metadata": {},
   "outputs": [],
   "source": [
    "type_counts = df['Type'].value_counts()\n",
    "\n",
    "type_percentage = (type_counts / len(df)) * 100\n",
    "\n",
    "print(type_percentage)"
   ]
  },
  {
   "cell_type": "markdown",
   "id": "2376751c-5ee0-43ae-91dd-dba87c6594fc",
   "metadata": {},
   "source": [
    "Answer: The most common type of property is houses, and they represent 67% of the properties."
   ]
  },
  {
   "cell_type": "markdown",
   "id": "e1a62178-763a-4acc-b08e-78965e2effc9",
   "metadata": {},
   "source": [
    "3. Create a graph to show the frequency of each property type n descending order. Which graph technique is the most suitable and straightforward approach for this task?"
   ]
  },
  {
   "cell_type": "code",
   "execution_count": null,
   "id": "bdeebe41-681e-4631-9495-5a76f74d7bcb",
   "metadata": {},
   "outputs": [],
   "source": [
    "type_counts.sort_values(ascending=False).plot(kind='bar', color='lightgreen')\n",
    "\n",
    "plt.title('Property Type Frequencies')\n",
    "plt.xticks(rotation=0)\n",
    "plt.show()"
   ]
  },
  {
   "cell_type": "markdown",
   "id": "dffcd46c-f6d9-4991-8a79-f7975b77756f",
   "metadata": {},
   "source": [
    "Answer: Countplot."
   ]
  },
  {
   "cell_type": "markdown",
   "id": "8fa86e0d-d79d-40c6-b56f-62a85568b93e",
   "metadata": {},
   "source": [
    "4. How does the number of rooms impact the median property price? Represent this relationship using a bar chart.\n",
    "   `Rooms`, `Price`"
   ]
  },
  {
   "cell_type": "code",
   "execution_count": null,
   "id": "a091a7f9-752f-448e-a798-4cb4ea977483",
   "metadata": {},
   "outputs": [],
   "source": [
    "# group by 'Rooms' and calculate the median 'Price' for each group\n",
    "median_price_per_room = df.groupby('Rooms')['Price'].median()\n",
    "display(median_price_per_room)"
   ]
  },
  {
   "cell_type": "code",
   "execution_count": null,
   "id": "aeb0b2e7-61c9-4b2f-9675-20160035857b",
   "metadata": {},
   "outputs": [],
   "source": [
    "median_price_per_room.plot(kind='bar', color='coral')\n",
    "plt.title('Median Property Price by Number of Rooms')\n",
    "plt.xlabel('Number of Rooms')\n",
    "plt.ylabel('Median Property Price')\n",
    "plt.xticks(rotation=0)\n",
    "plt.show()"
   ]
  },
  {
   "cell_type": "markdown",
   "id": "9cf2550d-5581-48ff-875c-7f60f563fbd3",
   "metadata": {},
   "source": [
    "Answer: The median property price generally increases with the number of rooms, but there are some exceptions where the price decreases or remains the same."
   ]
  },
  {
   "cell_type": "markdown",
   "id": "bcf9cfff-1466-48c2-a43a-969b06e4c02a",
   "metadata": {},
   "source": [
    "5. Since the relationship between property price and number of rooms may not be linear, it is appropriate to use a non-parametric correlation coefficient such as Spearman's to determine the strength of the relationship. Calculate the Spearman correlation coefficient to analyze the relationship between price and number of rooms."
   ]
  },
  {
   "cell_type": "code",
   "execution_count": null,
   "id": "086cec25-a270-4d25-b842-733781475042",
   "metadata": {},
   "outputs": [],
   "source": [
    "# calculate Spearman's rank correlation coefficient\n",
    "spearman_corr, p_value = spearmanr(df['Rooms'], df['Price'])\n",
    "\n",
    "print(f'Correlation coefficient: {spearman_corr}')\n",
    "print(f'P_value: {p_value}')"
   ]
  },
  {
   "cell_type": "markdown",
   "id": "3bd66ed8-8855-4531-a428-937b6f3588e6",
   "metadata": {},
   "source": [
    "Interpretation:\n",
    "Spearman's Rank Correlation Coefficient (0.5043):\n",
    "The value of 0.5043 indicates a moderate positive monotonic relationship between the number of rooms and the property price. This means that as the number of rooms increases, the property price tends to increase as well, but not in a perfectly linear manner. There is some level of positive correlation, though it's not extremely strong.\n",
    "P-value (0.0):\n",
    "The p-value of 0.0 is very small, which suggests that the correlation is statistically significant. In other words, there is a very low probability that the observed correlation is due to random chance. You can confidently conclude that there is a meaningful relationship between the number of rooms and the property price in your data.\n",
    "Conclusion:\n",
    "The moderate positive Spearman correlation (0.5043) suggests that as the number of rooms increases, property prices tend to increase, but not perfectly. The strong statistical significance (p-value = 0.0) indicates that this relationship is unlikely to be due to chance."
   ]
  },
  {
   "cell_type": "markdown",
   "id": "6e150b30-7745-44a0-a6b3-3775424323ad",
   "metadata": {},
   "source": [
    "Answer: The correlation between property price and number of rooms is moderate."
   ]
  },
  {
   "cell_type": "markdown",
   "id": "4fb98a4f-0d6a-4e40-afce-f2da57bd96d8",
   "metadata": {},
   "source": [
    "6. Is there a relationship between the distance from the Central Business District (CBD) and the property price?\n",
    "Use a scatter plot to visualize the relationship and calculate a correlation coefficient to determine the strength and direction of the correlation."
   ]
  },
  {
   "cell_type": "code",
   "execution_count": null,
   "id": "ad0cf2b7-f279-4bb8-b31c-31daf0306b46",
   "metadata": {},
   "outputs": [],
   "source": [
    "# fill empty values with mean\n",
    "df['Distance'] = df['Distance'].fillna(df['Distance'].mean())"
   ]
  },
  {
   "cell_type": "code",
   "execution_count": null,
   "id": "a1c19051-ffbc-4453-bbf1-55fbb3fdba05",
   "metadata": {},
   "outputs": [],
   "source": [
    "plt.scatter(df['Distance'], df['Price'], color='limegreen')\n",
    "plt.title('Property Price vs Distance from CBD')\n",
    "plt.xlabel('Distance')\n",
    "plt.ylabel('Property Price')\n",
    "plt.grid(True)\n",
    "plt.show()\n",
    "\n",
    "# Pearson correlation coefficient\n",
    "pearson_corr, p_value = pearsonr(df['Distance'], df['Price'])\n",
    "\n",
    "print(f'Pearson correlation coefficient: {pearson_corr}')\n",
    "print(f'P-value: {p_value}')"
   ]
  },
  {
   "cell_type": "markdown",
   "id": "9598f90e-5ff8-45a4-be20-912d67e591a6",
   "metadata": {},
   "source": [
    "Answer: There is a weak negative correlation between the distance from CBD and the property price."
   ]
  },
  {
   "cell_type": "markdown",
   "id": "9b41e759-ccbd-4f09-8729-afe47e0bfe3e",
   "metadata": {},
   "source": [
    "7. Is there a relationship between the property size and the property price?"
   ]
  },
  {
   "cell_type": "code",
   "execution_count": null,
   "id": "ea38812d-387e-423d-9238-87a8cc4c7180",
   "metadata": {},
   "outputs": [],
   "source": [
    "# fill empty values with mean\n",
    "df['Landsize'] = df['Landsize'].fillna(df['Landsize'].mean())"
   ]
  },
  {
   "cell_type": "code",
   "execution_count": null,
   "id": "07f2d299-4611-4309-a378-f8f786c85aae",
   "metadata": {},
   "outputs": [],
   "source": [
    "# Scatter plot to visualize the relationship\n",
    "plt.scatter(df['Landsize'], df['Price'], color='hotpink')\n",
    "plt.title('Property Price vs Property Size')\n",
    "plt.xlabel('Size (land and building)')\n",
    "plt.ylabel('Price')\n",
    "plt.grid(True)\n",
    "plt.show()\n",
    "\n",
    "# Calculate Pearson correlation coefficient\n",
    "pearson_corr, p_value = pearsonr(df['Landsize'], df['Price'])\n",
    "\n",
    "# Print the correlation coefficient and p-value\n",
    "print(f'Pearson correlation coefficient: {pearson_corr}')\n",
    "print(f'P-value: {p_value}')"
   ]
  },
  {
   "cell_type": "markdown",
   "id": "860bfc6b-cfe3-4996-9ad4-2fd9729bbbe8",
   "metadata": {},
   "source": [
    "Answer: There is a weak positive correlation between the two variables, but the relationship might not be linear."
   ]
  },
  {
   "cell_type": "markdown",
   "id": "f9e216e9-a14a-4ef7-8f33-6f70bac5742b",
   "metadata": {},
   "source": [
    "8. When looking visually at the relationship between land size and property price, a scatter plot might not be the most informative way to visualize this relationship.\n",
    "We can use a **quantile-based discretization function** to categorize the Landsize variable and create a bar plot.\n",
    "When using **q=7**, how does the relationship between land size and median property price change compared to using a lower quantile value?"
   ]
  },
  {
   "cell_type": "markdown",
   "id": "9a014afc-b877-4aa3-a7d4-0a39f1254369",
   "metadata": {},
   "source": [
    "When using a quantile-based discretization function to categorize the Landsize variable into quantiles (such as q=7), you're dividing the land size into 7 equal-sized groups, each containing approximately the same number of data points. This approach transforms a continuous variable (land size) into a categorical one, where each group corresponds to a range of land sizes. By comparing this method to a lower quantile value (such as q=4), you can observe how the relationship between land size and median property price changes.\n",
    "\n",
    "Summary:\n",
    "Using q=7 provides a higher level of detail, allowing you to more clearly observe subtle differences in property price across land sizes.\n",
    "Using a lower quantile value (e.g., q=4) smooths out these differences, resulting in a less granular view of the relationship, which could mask finer distinctions in property prices as they relate to land size."
   ]
  },
  {
   "cell_type": "markdown",
   "id": "3188c12c-b5b2-4355-b31f-9f6eacb8a600",
   "metadata": {},
   "source": [
    "Answer: The frequency of properties with a larger land size having a lower price than properties with a smaller land size increases when using q=7, compared to a lower quantile value."
   ]
  },
  {
   "cell_type": "markdown",
   "id": "6d9391dd-927f-4801-b634-f33756188bf7",
   "metadata": {},
   "source": [
    "Explanation:\n",
    "Using q=7 means dividing the land size into 7 quantiles, which creates more granular groups, allowing for finer distinctions in the relationship between land size and property price. This increases the resolution of the data, helping to reveal more subtle trends and variations.\n",
    "In contrast, using a lower quantile value (e.g., q=4) results in fewer groups, which may smooth out the relationship and make it harder to see more pronounced differences.\n",
    "Thus, when using q=7, the relationship between land size and property price is more pronounced due to the finer categorization, making it easier to observe variations across different land size ranges."
   ]
  },
  {
   "cell_type": "markdown",
   "id": "dd3ad0f2-2df4-419b-b61e-edd61c1aaa15",
   "metadata": {},
   "source": [
    "9. Does the dataset contain any properties that are priced significantly above or below the average? To investigate, create a box plot to detect potential outliers, and use Tukey's method with a 1.5 threshold to create a new dataframe without these outliers. \n",
    "What percentage of properties are identified as outliers using Tukey's method?"
   ]
  },
  {
   "cell_type": "code",
   "execution_count": null,
   "id": "71919182-404e-4d0d-b1dd-9754f8de2e3f",
   "metadata": {},
   "outputs": [],
   "source": [
    "# box plot to visually identify potential outliers\n",
    "plt.figure(figsize=(10, 6))\n",
    "plt.boxplot(df['Price'])\n",
    "plt.title('Property Prices')\n",
    "plt.ylabel('Price')\n",
    "plt.show()"
   ]
  },
  {
   "cell_type": "code",
   "execution_count": null,
   "id": "e13c4967-7391-4bc3-84e6-b3b0c807591b",
   "metadata": {},
   "outputs": [],
   "source": [
    "# Tukey's method\n",
    "\n",
    "# thresholds\n",
    "Q1 = df['Price'].quantile(0.25)\n",
    "Q3 = df['Price'].quantile(0.75)\n",
    "IQR = Q3 - Q1\n",
    "\n",
    "# Tukey's method to detect outliers\n",
    "lower_bound = Q1 - 1.5 * IQR\n",
    "upper_bound = Q3 + 1.5 * IQR\n",
    "\n",
    "# identify outliers\n",
    "outliers = df[(df['Price'] < lower_bound) | (df['Price'] > upper_bound)]\n",
    "\n",
    "print(f'Lower bound: {lower_bound}')\n",
    "print(f'Upper bound: {upper_bound}')\n",
    "# print(f'Outliers: {outliers}')"
   ]
  },
  {
   "cell_type": "code",
   "execution_count": null,
   "id": "8064d7d0-b20c-47d1-8abf-0f4bf1701763",
   "metadata": {},
   "outputs": [],
   "source": [
    "# new df without outliers\n",
    "outlier_free_df = df[(df['Price'] >= lower_bound) & (df['Price'] <= upper_bound)]\n",
    "\n",
    "# percentage of outliers\n",
    "percentage_outliers = (len(outliers) / len(df)) * 100\n",
    "\n",
    "print(f'Percentage of outliers: {percentage_outliers:.2f}%')"
   ]
  },
  {
   "cell_type": "markdown",
   "id": "7561476f-9228-469c-9ed2-076eb0fbf6a1",
   "metadata": {},
   "source": [
    "Answer: 4.69%"
   ]
  },
  {
   "cell_type": "markdown",
   "id": "ca5f8f2f-f2b0-4015-9739-8040e0ca2ec5",
   "metadata": {},
   "source": [
    "10. How is the property price distribution? Create a QQ (Quantile-Quantile) Plot to compare the distribution of property prices to a normal distribution visually, and calculate the skew and curtosis to get a better understanding of the shape of the distribution analytically."
   ]
  },
  {
   "cell_type": "code",
   "execution_count": null,
   "id": "cd3e982c-c479-47ca-8cb4-31ae720ebec3",
   "metadata": {},
   "outputs": [],
   "source": [
    "# create QQ plot to compare distribution\n",
    "plt.figure(figsize=(8, 6))\n",
    "stats.probplot(df['Price'], dist='norm', plot=plt)\n",
    "plt.title('QQ Plot: Property Prices vs Normal Distribution')\n",
    "plt.show()"
   ]
  },
  {
   "cell_type": "code",
   "execution_count": null,
   "id": "1101fc0f-8da5-42c8-8b68-3d92644a2743",
   "metadata": {},
   "outputs": [],
   "source": [
    "# calculate skewness and kurtosis\n",
    "skewness = df['Price'].skew()\n",
    "kurtosis = df['Price'].kurtosis()\n",
    "\n",
    "print(f'Skewness: {skewness:.2f}')\n",
    "print(f'Kurtosis: {kurtosis:.2f}')"
   ]
  },
  {
   "cell_type": "markdown",
   "id": "f65022b3-d0e0-464b-a5c5-44318c8119eb",
   "metadata": {},
   "source": [
    "Answer: The property price distribution is positively skewed."
   ]
  },
  {
   "cell_type": "markdown",
   "id": "b336303a-cebf-4b97-a361-afcf50a0c400",
   "metadata": {},
   "source": [
    "Explanation:\n",
    "Skewness of 2.59 indicates a positive skew, meaning the distribution is right-skewed (with a long tail on the right side), where most property prices are lower, but a few high-priced properties create a longer tail on the right.\n",
    "\n",
    "The kurtosis value of 13.10 confirms the presence of heavy tails (more extreme high values than normal), which further supports the idea of outliers in the higher price range, a characteristic of a positively skewed distribution."
   ]
  },
  {
   "cell_type": "markdown",
   "id": "c094e0e4-df96-4f90-b873-17a10e9e6f34",
   "metadata": {},
   "source": [
    "11. What is the outcome of performing a normality test, such as the *Kolmogorov-Smirnov Test*, on the distribution of property prices? Specifically, what possible conclusions can be drawn from the test results regarding the similarity of the distribution to a normal distribution?"
   ]
  },
  {
   "cell_type": "markdown",
   "id": "85c538f9-4652-4908-bd85-af0812974cc5",
   "metadata": {},
   "source": [
    "Kolmogorov-Smirnov Test:\n",
    "Null Hypothesis (H₀): The data follows a normal distribution.\n",
    "Alternative Hypothesis (H₁): The data does not follow a normal distribution."
   ]
  },
  {
   "cell_type": "code",
   "execution_count": null,
   "id": "cce719d1-2a6e-4d94-9736-b1435c049e27",
   "metadata": {},
   "outputs": [],
   "source": [
    "# standardize prices (mean 0, std 1)\n",
    "standardized_prices = (df['Price'] - df['Price'].mean()) / df['Price'].std()\n",
    "# print(standardized_prices)\n",
    "\n",
    "# Kolmogorov-Smirnov test\n",
    "ks_statistic, p_value = stats.kstest(standardized_prices, 'norm')\n",
    "\n",
    "print(f'KS statistic: {ks_statistic:.4f}')\n",
    "print(f'p-value: {p_value:.4f}')\n",
    "\n",
    "# interpretation based on p-value\n",
    "if p_value < 0.05:\n",
    "    print('The null hypothesis is rejected: The distribution of property prices is significantly different from a normal distribution.')\n",
    "else:\n",
    "    print('The null hypothesis cannot be rejected: The distribution of property prices is not significantly different from a normal distribution.')"
   ]
  },
  {
   "cell_type": "markdown",
   "id": "427a137d-7938-40ca-b25a-7056b7263163",
   "metadata": {},
   "source": [
    "Answer: The test results indicate that the distribution of property prices in the Melbourne housing market dataset is significantly different from a normal distribution."
   ]
  },
  {
   "cell_type": "markdown",
   "id": "9fd6a43b-4602-41f9-b1f9-d701a120ad25",
   "metadata": {},
   "source": [
    "12. How do property prices differ between different property types? Create a box plot to show the distribution of property prices for each property type."
   ]
  },
  {
   "cell_type": "code",
   "execution_count": null,
   "id": "3e0cc026-fc1a-47be-bffa-203ea790d461",
   "metadata": {},
   "outputs": [],
   "source": [
    "# a box plot to show the distribution of property prices for each property type\n",
    "plt.figure(figsize=(12, 8))\n",
    "sns.boxplot(x='Type', y='Price', data=df)\n",
    "\n",
    "plt.title('Property Price Distribution by Property Type', fontsize=16)\n",
    "plt.xlabel('Property Type', fontsize=14)\n",
    "plt.ylabel('Property Price', fontsize=14)\n",
    "\n",
    "plt.xticks(rotation=0)\n",
    "plt.tight_layout()\n",
    "plt.show()"
   ]
  },
  {
   "cell_type": "markdown",
   "id": "45282e14-9447-48bb-89cd-54184f3458b1",
   "metadata": {},
   "source": [
    "Answer: Houses have higher property prices than units and townhouses."
   ]
  },
  {
   "cell_type": "markdown",
   "id": "1b334f06-5b4c-454e-9627-77828020f37f",
   "metadata": {},
   "source": [
    "13. What is the region with the highest median price? Conversely, which region has the lowest median price?"
   ]
  },
  {
   "cell_type": "code",
   "execution_count": null,
   "id": "cb4a0d4f-97e6-4856-a463-cfe6f79f74bc",
   "metadata": {},
   "outputs": [],
   "source": [
    "import pandas as pd\n",
    "\n",
    "# Assuming you already have the DataFrame df with 'Price' and 'Regionname' columns\n",
    "\n",
    "# Group by 'Regionname' and calculate the median of 'Price'\n",
    "region_medians = df.groupby('Regionname')['Price'].median()\n",
    "\n",
    "# Find the region with the highest median price\n",
    "highest_median_region = region_medians.idxmax()\n",
    "highest_median_price = region_medians.max()\n",
    "\n",
    "# Find the region with the lowest median price\n",
    "lowest_median_region = region_medians.idxmin()\n",
    "lowest_median_price = region_medians.min()\n",
    "\n",
    "# Print the results\n",
    "print(f'Region with the highest median price: {highest_median_region} (Median Price: {highest_median_price})')\n",
    "print(f'Region with the lowest median price: {lowest_median_region} (Median Price: {lowest_median_price})')\n"
   ]
  },
  {
   "cell_type": "markdown",
   "id": "24bb260c-2b39-4524-989f-b347f2fafb95",
   "metadata": {},
   "source": [
    "Answer: Most expensive: Southern Metropolitan, Cheapest: Western Victoria"
   ]
  },
  {
   "cell_type": "markdown",
   "id": "041efc95-fc82-419a-b26a-fffede51e644",
   "metadata": {},
   "source": [
    "14. Is there a statistically significant association between the region and the price of properties? Use the *chi square test* to assess the independence between region and price, and *Cramer's V coefficient* to quantify the strength of the association between these two features.\n",
    "\n",
    "        It's worth noting that in order to perform this analysis, both features need to be categorical. Divide the price variable into five distinc ranges.\n",
    "        Use Cohen (1988) interpretation on Cramer's V, which depends on the degrees of freedom."
   ]
  },
  {
   "cell_type": "code",
   "execution_count": null,
   "id": "8b12f156-77ff-4d45-b444-940d85ad35f9",
   "metadata": {},
   "outputs": [],
   "source": [
    "# Step 1: Categorize the 'Price' column into five distinct ranges\n",
    "price_bins = [0, 300000, 500000, 700000, 900000, np.inf]\n",
    "price_labels = ['0-300k', '300k-500k', '500k-700k', '700k-900k', '900k+']\n",
    "df['PriceCategory'] = pd.cut(df['Price'], bins=price_bins, labels=price_labels)\n",
    "\n",
    "# Step 2: Create a contingency table of 'PriceCategory' vs 'Regionname'\n",
    "contingency_table = pd.crosstab(df['PriceCategory'], df['Regionname'])\n",
    "\n",
    "# Step 3: Perform the Chi-Square Test of Independence\n",
    "chi2_stat, p_val, dof, expected = stats.chi2_contingency(contingency_table)\n",
    "\n",
    "# Step 4: Calculate Cramer's V coefficient\n",
    "n = contingency_table.sum().sum()  # Total number of observations\n",
    "min_dim = min(contingency_table.shape) - 1  # Minimum of (rows-1, columns-1)\n",
    "cramers_v = np.sqrt(chi2_stat / (n * min_dim))\n",
    "\n",
    "# Step 5: Interpret the results\n",
    "print(f\"Chi-Square Test Statistic: {chi2_stat:.4f}\")\n",
    "print(f\"p-value: {p_val:.4f}\")\n",
    "print(f\"Cramer's V: {cramers_v:.4f}\")\n",
    "\n",
    "# Chi-Square Test Interpretation\n",
    "if p_val < 0.05:\n",
    "    print(\"There is a statistically significant association between region and price (reject H0).\")\n",
    "else:\n",
    "    print(\"There is no statistically significant association between region and price (fail to reject H0).\")\n",
    "\n",
    "# Cramer's V Interpretation based on Cohen (1988)\n",
    "if cramers_v < 0.1:\n",
    "    print(\"The association between region and price is weak.\")\n",
    "elif cramers_v < 0.3:\n",
    "    print(\"The association between region and price is moderate.\")\n",
    "else:\n",
    "    print(\"The association between region and price is strong.\")\n",
    "\n",
    "# Optionally, visualize the contingency table\n",
    "sns.heatmap(contingency_table, annot=True, cmap=\"Blues\", fmt=\"d\")\n",
    "plt.title(\"Contingency Table Heatmap\")\n",
    "plt.show()"
   ]
  },
  {
   "cell_type": "markdown",
   "id": "082354e9-eb1f-4159-8dd8-d975a7972e7a",
   "metadata": {},
   "source": [
    "Answer: Yes, there is a significant relationship between the region and the price of properties, and the relationship is medium."
   ]
  },
  {
   "cell_type": "markdown",
   "id": "feeeb94d-a8d1-49c2-ba3b-d350ac1572aa",
   "metadata": {},
   "source": [
    "15. How much was the percentage increase or decrease in *median price* of properties sold between the earliest year and the latest year (`Date` column)?"
   ]
  },
  {
   "cell_type": "code",
   "execution_count": null,
   "id": "25fce847-e07b-4dfe-ad9c-d686bf6f05cd",
   "metadata": {},
   "outputs": [],
   "source": [
    "# Step 1: Ensure 'Date' is in datetime format and extract the year\n",
    "df['Date'] = pd.to_datetime(df['Date'], errors='coerce')  # Convert to datetime, handle errors if any\n",
    "df['Year'] = df['Date'].dt.year  # Extract year from the Date column\n",
    "\n",
    "# Step 2: Group by Year and calculate the median price for each year\n",
    "median_prices_by_year = df.groupby('Year')['Price'].median()\n",
    "\n",
    "# Step 3: Get the earliest and latest year\n",
    "# earliest_year = median_prices_by_year.idxmin()  # The year with the minimum median price\n",
    "# latest_year = median_prices_by_year.idxmax()   # The year with the maximum median price\n",
    "earliest_year = 2016\n",
    "latest_year = 2018\n",
    "# Step 4: Calculate the median price in the earliest and latest year\n",
    "median_price_earliest = median_prices_by_year[earliest_year]\n",
    "median_price_latest = median_prices_by_year[latest_year]\n",
    "\n",
    "# Step 5: Calculate the percentage change in median price\n",
    "percentage_change = ((median_price_latest - median_price_earliest) / median_price_earliest) * 100\n",
    "\n",
    "# Print results\n",
    "print(f\"Median price in {earliest_year}: {median_price_earliest}\")\n",
    "print(f\"Median price in {latest_year}: {median_price_latest}\")\n",
    "print(f\"Percentage change in median price from {earliest_year} to {latest_year}: {percentage_change:.2f}%\")"
   ]
  },
  {
   "cell_type": "code",
   "execution_count": null,
   "id": "6a14a0c1-fafd-4f36-b13e-289bd60ee038",
   "metadata": {},
   "outputs": [],
   "source": [
    "print(df['Year'].unique())"
   ]
  },
  {
   "cell_type": "markdown",
   "id": "a56c412e-d7bd-4214-bb7d-02c8eb7bb11f",
   "metadata": {},
   "source": [
    "Answer: -5.48%"
   ]
  },
  {
   "cell_type": "markdown",
   "id": "644f085e-283a-4c55-a350-0eeed54b254c",
   "metadata": {},
   "source": [
    "16. Is there a specific month during which more houses are sold?"
   ]
  },
  {
   "cell_type": "code",
   "execution_count": null,
   "id": "62e48c5d-3bd8-4bd5-b640-beb6afcc0688",
   "metadata": {},
   "outputs": [],
   "source": [
    "# convert 'Date' to datetime format\n",
    "df['Date'] = pd.to_datetime(df['Date'], errors='coerce')  # Ensure Date is in datetime format\n",
    "\n",
    "# extract the month from the 'Date' column\n",
    "df['Month'] = df['Date'].dt.month\n",
    "\n",
    "# count the number of properties sold per month\n",
    "sales_per_month = df['Month'].value_counts().sort_index()  # Count occurrences per month, sorted by month\n",
    "\n",
    "# Step 4: Identify the month with the most sales\n",
    "most_sales_month = sales_per_month.idxmax()\n",
    "most_sales_count = sales_per_month.max()\n",
    "\n",
    "# Step 5: Print the results\n",
    "print(f\"The month with the most houses sold is month {most_sales_month} with {most_sales_count} sales.\")\n"
   ]
  },
  {
   "cell_type": "markdown",
   "id": "5392ab8c-2781-482a-a6f6-4a447a56a873",
   "metadata": {},
   "source": [
    "Answer: November."
   ]
  }
 ],
 "metadata": {
  "kernelspec": {
   "display_name": "ironhack",
   "language": "python",
   "name": "python3"
  },
  "language_info": {
   "codemirror_mode": {
    "name": "ipython",
    "version": 3
   },
   "file_extension": ".py",
   "mimetype": "text/x-python",
   "name": "python",
   "nbconvert_exporter": "python",
   "pygments_lexer": "ipython3",
   "version": "3.12.7"
  }
 },
 "nbformat": 4,
 "nbformat_minor": 5
}
